{
 "cells": [
  {
   "cell_type": "code",
   "execution_count": 2,
   "metadata": {},
   "outputs": [
    {
     "ename": "error",
     "evalue": "OpenCV(4.1.0) /Users/travis/build/skvark/opencv-python/opencv/modules/highgui/src/window.cpp:352: error: (-215:Assertion failed) size.width>0 && size.height>0 in function 'imshow'\n",
     "output_type": "error",
     "traceback": [
      "\u001b[0;31m---------------------------------------------------------------------------\u001b[0m",
      "\u001b[0;31merror\u001b[0m                                     Traceback (most recent call last)",
      "\u001b[0;32m<ipython-input-2-4eaf03d118c7>\u001b[0m in \u001b[0;36m<module>\u001b[0;34m\u001b[0m\n\u001b[1;32m     14\u001b[0m \u001b[0;34m\u001b[0m\u001b[0m\n\u001b[1;32m     15\u001b[0m     \u001b[0;31m# Display cropped image\u001b[0m\u001b[0;34m\u001b[0m\u001b[0;34m\u001b[0m\u001b[0;34m\u001b[0m\u001b[0m\n\u001b[0;32m---> 16\u001b[0;31m     \u001b[0mcv2\u001b[0m\u001b[0;34m.\u001b[0m\u001b[0mimshow\u001b[0m\u001b[0;34m(\u001b[0m\u001b[0;34m\"image\"\u001b[0m\u001b[0;34m,\u001b[0m \u001b[0mimCrop\u001b[0m\u001b[0;34m)\u001b[0m\u001b[0;34m\u001b[0m\u001b[0;34m\u001b[0m\u001b[0m\n\u001b[0m\u001b[1;32m     17\u001b[0m     \u001b[0mcv2\u001b[0m\u001b[0;34m.\u001b[0m\u001b[0mwaitKey\u001b[0m\u001b[0;34m(\u001b[0m\u001b[0;36m0\u001b[0m\u001b[0;34m)\u001b[0m\u001b[0;34m\u001b[0m\u001b[0;34m\u001b[0m\u001b[0m\n",
      "\u001b[0;31merror\u001b[0m: OpenCV(4.1.0) /Users/travis/build/skvark/opencv-python/opencv/modules/highgui/src/window.cpp:352: error: (-215:Assertion failed) size.width>0 && size.height>0 in function 'imshow'\n"
     ]
    }
   ],
   "source": [
    "import cv2\n",
    "import numpy as np\n",
    " \n",
    "if __name__ == '__main__' :\n",
    " \n",
    "    # Read image\n",
    "    im = cv2.imread(\"x-rays/Digital-dental-bitewing-xray.jpg\")\n",
    "     \n",
    "    # Select ROI\n",
    "    r = cv2.selectROI(im)\n",
    "     \n",
    "    # Crop image\n",
    "    imCrop = im[int(r[1]):int(r[1]+r[3]), int(r[0]):int(r[0]+r[2])]\n",
    " \n",
    "    # Display cropped image\n",
    "    cv2.imshow(\"image\", imCrop)\n",
    "    cv2.waitKey(0)"
   ]
  },
  {
   "cell_type": "code",
   "execution_count": 1,
   "metadata": {},
   "outputs": [
    {
     "name": "stderr",
     "output_type": "stream",
     "text": [
      "usage: ipykernel_launcher.py [-h] [--input INPUT]\n",
      "ipykernel_launcher.py: error: unrecognized arguments: -f /Users/jtian/Library/Jupyter/runtime/kernel-f1550402-3a76-4951-acea-5bac4ebc52cc.json\n"
     ]
    },
    {
     "ename": "SystemExit",
     "evalue": "2",
     "output_type": "error",
     "traceback": [
      "An exception has occurred, use %tb to see the full traceback.\n",
      "\u001b[0;31mSystemExit\u001b[0m\u001b[0;31m:\u001b[0m 2\n"
     ]
    },
    {
     "name": "stderr",
     "output_type": "stream",
     "text": [
      "/Users/jtian/anaconda3/lib/python3.7/site-packages/IPython/core/interactiveshell.py:3275: UserWarning: To exit: use 'exit', 'quit', or Ctrl-D.\n",
      "  warn(\"To exit: use 'exit', 'quit', or Ctrl-D.\", stacklevel=1)\n"
     ]
    }
   ],
   "source": [
    "from __future__ import print_function\n",
    "import cv2 as cv\n",
    "import numpy as np\n",
    "import argparse\n",
    "import random as rng\n",
    "rng.seed(12345)\n",
    "def thresh_callback(val):\n",
    "    threshold = val\n",
    "    \n",
    "    canny_output = cv.Canny(src_gray, threshold, threshold * 2)\n",
    "    \n",
    "    \n",
    "    _, contours, _ = cv.findContours(canny_output, cv.RETR_TREE, cv.CHAIN_APPROX_SIMPLE)\n",
    "    \n",
    "    \n",
    "    contours_poly = [None]*len(contours)\n",
    "    boundRect = [None]*len(contours)\n",
    "    centers = [None]*len(contours)\n",
    "    radius = [None]*len(contours)\n",
    "    for i, c in enumerate(contours):\n",
    "        contours_poly[i] = cv.approxPolyDP(c, 3, True)\n",
    "        boundRect[i] = cv.boundingRect(contours_poly[i])\n",
    "        centers[i], radius[i] = cv.minEnclosingCircle(contours_poly[i])\n",
    "    \n",
    "    \n",
    "    drawing = np.zeros((canny_output.shape[0], canny_output.shape[1], 3), dtype=np.uint8)\n",
    "    \n",
    "    \n",
    "    for i in range(len(contours)):\n",
    "        color = (rng.randint(0,256), rng.randint(0,256), rng.randint(0,256))\n",
    "        cv.drawContours(drawing, contours_poly, i, color)\n",
    "        cv.rectangle(drawing, (int(boundRect[i][0]), int(boundRect[i][1])), \\\n",
    "          (int(boundRect[i][0]+boundRect[i][2]), int(boundRect[i][1]+boundRect[i][3])), color, 2)\n",
    "        cv.circle(drawing, (int(centers[i][0]), int(centers[i][1])), int(radius[i]), color, 2)\n",
    "    \n",
    "    \n",
    "    cv.imshow('Contours', drawing)\n",
    "    \n",
    "parser = argparse.ArgumentParser(description='Code for Creating Bounding boxes and circles for contours tutorial.')\n",
    "parser.add_argument('--input', help='Path to input image.', default='stuff.jpg')\n",
    "args = parser.parse_args()\n",
    "src = cv.imread(cv.samples.findFile(args.input))\n",
    "if src is None:\n",
    "    print('Could not open or find the image:', args.input)\n",
    "    exit(0)\n",
    "# Convert image to gray and blur it\n",
    "src_gray = cv.cvtColor(src, cv.COLOR_BGR2GRAY)\n",
    "src_gray = cv.blur(src_gray, (3,3))\n",
    "source_window = 'Source'\n",
    "cv.namedWindow(source_window)\n",
    "cv.imshow(source_window, src)\n",
    "max_thresh = 255\n",
    "thresh = 100 # initial threshold\n",
    "cv.createTrackbar('Canny thresh:', source_window, thresh, max_thresh, thresh_callback)\n",
    "thresh_callback(thresh)\n",
    "cv.waitKey()"
   ]
  },
  {
   "cell_type": "code",
   "execution_count": 5,
   "metadata": {},
   "outputs": [
    {
     "ename": "error",
     "evalue": "OpenCV(4.1.0) /Users/travis/build/skvark/opencv-python/opencv/modules/imgproc/src/pyramids.cpp:729: error: (-215:Assertion failed) !_src.empty() in function 'pyrDown_'\n",
     "output_type": "error",
     "traceback": [
      "\u001b[0;31m---------------------------------------------------------------------------\u001b[0m",
      "\u001b[0;31merror\u001b[0m                                     Traceback (most recent call last)",
      "\u001b[0;32m<ipython-input-5-69e1829117dc>\u001b[0m in \u001b[0;36m<module>\u001b[0;34m\u001b[0m\n\u001b[1;32m      4\u001b[0m \u001b[0;31m# read and scale down image\u001b[0m\u001b[0;34m\u001b[0m\u001b[0;34m\u001b[0m\u001b[0;34m\u001b[0m\u001b[0m\n\u001b[1;32m      5\u001b[0m \u001b[0;31m# wget https://bigsnarf.files.wordpress.com/2017/05/hammer.png\u001b[0m\u001b[0;34m\u001b[0m\u001b[0;34m\u001b[0m\u001b[0;34m\u001b[0m\u001b[0m\n\u001b[0;32m----> 6\u001b[0;31m \u001b[0mimg\u001b[0m \u001b[0;34m=\u001b[0m \u001b[0mcv2\u001b[0m\u001b[0;34m.\u001b[0m\u001b[0mpyrDown\u001b[0m\u001b[0;34m(\u001b[0m\u001b[0mcv2\u001b[0m\u001b[0;34m.\u001b[0m\u001b[0mimread\u001b[0m\u001b[0;34m(\u001b[0m\u001b[0;34m'hammer.png'\u001b[0m\u001b[0;34m,\u001b[0m \u001b[0mcv2\u001b[0m\u001b[0;34m.\u001b[0m\u001b[0mIMREAD_UNCHANGED\u001b[0m\u001b[0;34m)\u001b[0m\u001b[0;34m)\u001b[0m\u001b[0;34m\u001b[0m\u001b[0;34m\u001b[0m\u001b[0m\n\u001b[0m\u001b[1;32m      7\u001b[0m \u001b[0;34m\u001b[0m\u001b[0m\n\u001b[1;32m      8\u001b[0m \u001b[0;31m# threshold image\u001b[0m\u001b[0;34m\u001b[0m\u001b[0;34m\u001b[0m\u001b[0;34m\u001b[0m\u001b[0m\n",
      "\u001b[0;31merror\u001b[0m: OpenCV(4.1.0) /Users/travis/build/skvark/opencv-python/opencv/modules/imgproc/src/pyramids.cpp:729: error: (-215:Assertion failed) !_src.empty() in function 'pyrDown_'\n"
     ]
    }
   ],
   "source": [
    "import cv2\n",
    "import numpy as np \n",
    " \n",
    "# read and scale down image\n",
    "# wget https://bigsnarf.files.wordpress.com/2017/05/hammer.png\n",
    "img = cv2.pyrDown(cv2.imread('hammer.png', cv2.IMREAD_UNCHANGED))\n",
    " \n",
    "# threshold image\n",
    "ret, threshed_img = cv2.threshold(cv2.cvtColor(img, cv2.COLOR_BGR2GRAY),\n",
    "                127, 255, cv2.THRESH_BINARY)\n",
    "# find contours and get the external one\n",
    "image, contours, hier = cv2.findContours(threshed_img, cv2.RETR_TREE,\n",
    "                cv2.CHAIN_APPROX_SIMPLE)\n",
    " \n",
    "# with each contour, draw boundingRect in green\n",
    "# a minAreaRect in red and\n",
    "# a minEnclosingCircle in blue\n",
    "for c in contours:\n",
    "    # get the bounding rect\n",
    "    x, y, w, h = cv2.boundingRect(c)\n",
    "    # draw a green rectangle to visualize the bounding rect\n",
    "    cv2.rectangle(img, (x, y), (x+w, y+h), (0, 255, 0), 2)\n",
    " \n",
    "    # get the min area rect\n",
    "    rect = cv2.minAreaRect(c)\n",
    "    box = cv2.boxPoints(rect)\n",
    "    # convert all coordinates floating point values to int\n",
    "    box = np.int0(box)\n",
    "    # draw a red 'nghien' rectangle\n",
    "    cv2.drawContours(img, [box], 0, (0, 0, 255))\n",
    " \n",
    "    # finally, get the min enclosing circle\n",
    "    (x, y), radius = cv2.minEnclosingCircle(c)\n",
    "    # convert all values to int\n",
    "    center = (int(x), int(y))\n",
    "    radius = int(radius)\n",
    "    # and draw the circle in blue\n",
    "    img = cv2.circle(img, center, radius, (255, 0, 0), 2)\n",
    " \n",
    "print(len(contours))\n",
    "cv2.drawContours(img, contours, -1, (255, 255, 0), 1)\n",
    " \n",
    "cv2.imshow(\"contours\", img)\n",
    " \n",
    "ESC = 27\n",
    "while True:\n",
    "    cv2.waitKey(0)\n",
    "    \n",
    "    #keycode = cv2.waitKey()\n",
    "    #if keycode != -1:\n",
    "        #keycode &amp;= 0xFF\n",
    "        #if keycode == ESC:\n",
    "            #break\n",
    "cv2.destroyAllWindows()"
   ]
  },
  {
   "cell_type": "code",
   "execution_count": null,
   "metadata": {},
   "outputs": [],
   "source": []
  }
 ],
 "metadata": {
  "kernelspec": {
   "display_name": "Python 3",
   "language": "python",
   "name": "python3"
  },
  "language_info": {
   "codemirror_mode": {
    "name": "ipython",
    "version": 3
   },
   "file_extension": ".py",
   "mimetype": "text/x-python",
   "name": "python",
   "nbconvert_exporter": "python",
   "pygments_lexer": "ipython3",
   "version": "3.7.1"
  }
 },
 "nbformat": 4,
 "nbformat_minor": 2
}
