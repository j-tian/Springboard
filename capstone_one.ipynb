{
 "cells": [
  {
   "cell_type": "markdown",
   "metadata": {},
   "source": [
    "# Lending Club Data Set Analysis\n",
    "\n",
    "\n",
    "The lending club data set contains complete loan data for all loans issued from 2007-2011, including the current loan status (Current, Late, Fully Paid, etc.) and latest payment information. The goal of this project is to use machine learning to predict what types of loans are more likely to be default, in order to increase the efficiency and effectiveness of the loan approval process. "
   ]
  },
  {
   "cell_type": "markdown",
   "metadata": {},
   "source": [
    "## 1. Overview of the dataset"
   ]
  },
  {
   "cell_type": "code",
   "execution_count": 2,
   "metadata": {},
   "outputs": [],
   "source": [
    "import numpy as np \n",
    "import pandas as pd \n",
    "import matplotlib.pyplot as plt\n",
    "import seaborn as sns \n",
    "import time\n",
    "from scipy import stats"
   ]
  },
  {
   "cell_type": "markdown",
   "metadata": {},
   "source": [
    "### Data wrangling steps to clean the lending club data dataset:\n",
    "\n",
    "#### Cleaning steps: \n",
    "* remove columns that contain more than 75% values are missing:\n",
    "\n",
    "df.drop(top_mis[top_mis[\"Percentage %\"]>75][\"index\"], axis = 1, inplace=True)\n",
    "\n",
    "* Remove columns that are repeating from other columns:\n",
    "\n",
    "df.drop([\"loan_amnt\",\"funded_amnt_inv\", \"total_acc\", \n",
    "         \"collection_recovery_fee\", \"out_prncp_inv\",\"total_rec_prncp\", \"total_pymnt_inv\",”\n",
    "         \"annual_inc\",  ], \n",
    "        axis = 1, inplace = True)\n",
    "\n",
    "#### Missing values \n",
    "* For columns that still contain large number of missing values (>=0.2%), look at the data, and fill in missing values to 0, mean, or mode. Below listed are the top 3, other top ones can just be filled with 0. \n",
    "\n",
    "df[\"mths_since_last_delinq\"] = df[\"mths_since_last_delinq\"].fillna(0)\n",
    "\n",
    "df[\"pub_rec_bankruptcies\"] = df[\"pub_rec_bankruptcies\"].fillna(0)\n",
    "\n",
    "df[\"open_acc\"]= df[\"open_acc\"].fillna(df[\"open_acc\"].mean())\n",
    "\n",
    "* For the rest of the dataset, since the number of missing values is small (<0.2%), fill in with 0\n",
    "\n",
    "df = df.fillna(0)\n",
    "\n",
    "\n",
    "#### No outliers detected \n",
    "\n",
    "\n",
    "\t\n"
   ]
  },
  {
   "cell_type": "code",
   "execution_count": 3,
   "metadata": {},
   "outputs": [
    {
     "name": "stderr",
     "output_type": "stream",
     "text": [
      "/Users/jtian/anaconda3/lib/python3.7/site-packages/IPython/core/interactiveshell.py:3020: DtypeWarning: Columns (38) have mixed types. Specify dtype option on import or set low_memory=False.\n",
      "  interactivity=interactivity, compiler=compiler, result=result)\n"
     ]
    }
   ],
   "source": [
    "df=pd.read_csv('loan_stats.csv')"
   ]
  },
  {
   "cell_type": "code",
   "execution_count": 22,
   "metadata": {
    "scrolled": true
   },
   "outputs": [
    {
     "data": {
      "text/html": [
       "<div>\n",
       "<style scoped>\n",
       "    .dataframe tbody tr th:only-of-type {\n",
       "        vertical-align: middle;\n",
       "    }\n",
       "\n",
       "    .dataframe tbody tr th {\n",
       "        vertical-align: top;\n",
       "    }\n",
       "\n",
       "    .dataframe thead th {\n",
       "        text-align: right;\n",
       "    }\n",
       "</style>\n",
       "<table border=\"1\" class=\"dataframe\">\n",
       "  <thead>\n",
       "    <tr style=\"text-align: right;\">\n",
       "      <th></th>\n",
       "      <th>Unnamed: 0</th>\n",
       "      <th>id</th>\n",
       "      <th>member_id</th>\n",
       "      <th>funded_amnt</th>\n",
       "      <th>term</th>\n",
       "      <th>int_rate</th>\n",
       "      <th>installment</th>\n",
       "      <th>grade</th>\n",
       "      <th>sub_grade</th>\n",
       "      <th>emp_length</th>\n",
       "      <th>...</th>\n",
       "      <th>disbursement_method</th>\n",
       "      <th>debt_settlement_flag</th>\n",
       "      <th>debt_settlement_flag_date</th>\n",
       "      <th>settlement_status</th>\n",
       "      <th>settlement_date</th>\n",
       "      <th>settlement_amount</th>\n",
       "      <th>settlement_percentage</th>\n",
       "      <th>settlement_term</th>\n",
       "      <th>loan_status_new</th>\n",
       "      <th>year</th>\n",
       "    </tr>\n",
       "  </thead>\n",
       "  <tbody>\n",
       "    <tr>\n",
       "      <th>42530</th>\n",
       "      <td>42531</td>\n",
       "      <td>0</td>\n",
       "      <td>0.0</td>\n",
       "      <td>3500.0</td>\n",
       "      <td>36 months</td>\n",
       "      <td>10.28%</td>\n",
       "      <td>113.39</td>\n",
       "      <td>C</td>\n",
       "      <td>C1</td>\n",
       "      <td>&lt; 1 year</td>\n",
       "      <td>...</td>\n",
       "      <td>Cash</td>\n",
       "      <td>N</td>\n",
       "      <td>0</td>\n",
       "      <td>0</td>\n",
       "      <td>0</td>\n",
       "      <td>0.0</td>\n",
       "      <td>0.0</td>\n",
       "      <td>0.0</td>\n",
       "      <td>Fully Paid</td>\n",
       "      <td>2007</td>\n",
       "    </tr>\n",
       "    <tr>\n",
       "      <th>42531</th>\n",
       "      <td>42532</td>\n",
       "      <td>0</td>\n",
       "      <td>0.0</td>\n",
       "      <td>1000.0</td>\n",
       "      <td>36 months</td>\n",
       "      <td>9.64%</td>\n",
       "      <td>32.11</td>\n",
       "      <td>B</td>\n",
       "      <td>B4</td>\n",
       "      <td>&lt; 1 year</td>\n",
       "      <td>...</td>\n",
       "      <td>Cash</td>\n",
       "      <td>N</td>\n",
       "      <td>0</td>\n",
       "      <td>0</td>\n",
       "      <td>0</td>\n",
       "      <td>0.0</td>\n",
       "      <td>0.0</td>\n",
       "      <td>0.0</td>\n",
       "      <td>Fully Paid</td>\n",
       "      <td>2007</td>\n",
       "    </tr>\n",
       "    <tr>\n",
       "      <th>42532</th>\n",
       "      <td>42533</td>\n",
       "      <td>0</td>\n",
       "      <td>0.0</td>\n",
       "      <td>2525.0</td>\n",
       "      <td>36 months</td>\n",
       "      <td>9.33%</td>\n",
       "      <td>80.69</td>\n",
       "      <td>B</td>\n",
       "      <td>B3</td>\n",
       "      <td>&lt; 1 year</td>\n",
       "      <td>...</td>\n",
       "      <td>Cash</td>\n",
       "      <td>N</td>\n",
       "      <td>0</td>\n",
       "      <td>0</td>\n",
       "      <td>0</td>\n",
       "      <td>0.0</td>\n",
       "      <td>0.0</td>\n",
       "      <td>0.0</td>\n",
       "      <td>Fully Paid</td>\n",
       "      <td>2007</td>\n",
       "    </tr>\n",
       "    <tr>\n",
       "      <th>42533</th>\n",
       "      <td>42534</td>\n",
       "      <td>0</td>\n",
       "      <td>0.0</td>\n",
       "      <td>6500.0</td>\n",
       "      <td>36 months</td>\n",
       "      <td>8.38%</td>\n",
       "      <td>204.84</td>\n",
       "      <td>A</td>\n",
       "      <td>A5</td>\n",
       "      <td>&lt; 1 year</td>\n",
       "      <td>...</td>\n",
       "      <td>Cash</td>\n",
       "      <td>N</td>\n",
       "      <td>0</td>\n",
       "      <td>0</td>\n",
       "      <td>0</td>\n",
       "      <td>0.0</td>\n",
       "      <td>0.0</td>\n",
       "      <td>0.0</td>\n",
       "      <td>Fully Paid</td>\n",
       "      <td>2007</td>\n",
       "    </tr>\n",
       "    <tr>\n",
       "      <th>42534</th>\n",
       "      <td>42535</td>\n",
       "      <td>0</td>\n",
       "      <td>0.0</td>\n",
       "      <td>5000.0</td>\n",
       "      <td>36 months</td>\n",
       "      <td>7.75%</td>\n",
       "      <td>156.11</td>\n",
       "      <td>A</td>\n",
       "      <td>A3</td>\n",
       "      <td>10+ years</td>\n",
       "      <td>...</td>\n",
       "      <td>Cash</td>\n",
       "      <td>N</td>\n",
       "      <td>0</td>\n",
       "      <td>0</td>\n",
       "      <td>0</td>\n",
       "      <td>0.0</td>\n",
       "      <td>0.0</td>\n",
       "      <td>0.0</td>\n",
       "      <td>Fully Paid</td>\n",
       "      <td>2007</td>\n",
       "    </tr>\n",
       "  </tbody>\n",
       "</table>\n",
       "<p>5 rows × 138 columns</p>\n",
       "</div>"
      ],
      "text/plain": [
       "       Unnamed: 0  id  member_id  funded_amnt        term int_rate  \\\n",
       "42530       42531   0        0.0       3500.0   36 months   10.28%   \n",
       "42531       42532   0        0.0       1000.0   36 months    9.64%   \n",
       "42532       42533   0        0.0       2525.0   36 months    9.33%   \n",
       "42533       42534   0        0.0       6500.0   36 months    8.38%   \n",
       "42534       42535   0        0.0       5000.0   36 months    7.75%   \n",
       "\n",
       "       installment grade sub_grade emp_length  ...  disbursement_method  \\\n",
       "42530       113.39     C        C1   < 1 year  ...                 Cash   \n",
       "42531        32.11     B        B4   < 1 year  ...                 Cash   \n",
       "42532        80.69     B        B3   < 1 year  ...                 Cash   \n",
       "42533       204.84     A        A5   < 1 year  ...                 Cash   \n",
       "42534       156.11     A        A3  10+ years  ...                 Cash   \n",
       "\n",
       "      debt_settlement_flag debt_settlement_flag_date settlement_status  \\\n",
       "42530                    N                         0                 0   \n",
       "42531                    N                         0                 0   \n",
       "42532                    N                         0                 0   \n",
       "42533                    N                         0                 0   \n",
       "42534                    N                         0                 0   \n",
       "\n",
       "      settlement_date  settlement_amount settlement_percentage  \\\n",
       "42530               0                0.0                   0.0   \n",
       "42531               0                0.0                   0.0   \n",
       "42532               0                0.0                   0.0   \n",
       "42533               0                0.0                   0.0   \n",
       "42534               0                0.0                   0.0   \n",
       "\n",
       "      settlement_term loan_status_new  year  \n",
       "42530             0.0      Fully Paid  2007  \n",
       "42531             0.0      Fully Paid  2007  \n",
       "42532             0.0      Fully Paid  2007  \n",
       "42533             0.0      Fully Paid  2007  \n",
       "42534             0.0      Fully Paid  2007  \n",
       "\n",
       "[5 rows x 138 columns]"
      ]
     },
     "execution_count": 22,
     "metadata": {},
     "output_type": "execute_result"
    }
   ],
   "source": [
    "\n",
    "df.tail()"
   ]
  },
  {
   "cell_type": "markdown",
   "metadata": {},
   "source": [
    "## 2. Data storytelling\n",
    "* The following pie chart shows the percentage of issued loans that are charged off, which is 15.12%."
   ]
  },
  {
   "cell_type": "code",
   "execution_count": 23,
   "metadata": {
    "scrolled": true
   },
   "outputs": [
    {
     "data": {
      "image/png": "[encoded data removed]",
      "text/plain": [
       "<Figure size 432x288 with 1 Axes>"
      ]
     },
     "metadata": {},
     "output_type": "display_data"
    }
   ],
   "source": [
    "#1. Can you count something interesting?\n",
    "\n",
    "# 15.12% of loans are charged off\n",
    "\n",
    "\n",
    "df['loan_status_new'] = df['loan_status']\n",
    "df.loc[df['loan_status']=='Does not meet the credit policy. Status:Fully Paid',\n",
    "  'loan_status_new']='Fully Paid'\n",
    "df.loc[df['loan_status']=='Does not meet the credit policy. Status:Charged Off',\n",
    "  'loan_status_new']='Charged Off'\n",
    "\n",
    "\n",
    "\n",
    "df[\"loan_status_new\"].value_counts().plot.pie( autopct='%1.2f%%', shadow=True,  \n",
    "                                             fontsize=12, startangle=90, title='Loan Conditions')\n",
    "\n",
    "\n",
    "\n",
    "#datetime_series = pd.to_datetime(df['issue_d'])\n",
    "df['year']=df['issue_d'].apply(lambda x: int(x.split('-')[1]))\n",
    "\n"
   ]
  },
  {
   "cell_type": "markdown",
   "metadata": {},
   "source": [
    "* Over the years from 2007- 2011, loan amount are generally increasing across different credit grades. Lower grades tend to take out more loans. Better grades have lower interest rates. For grades A and B, interest rates are increasing from 2007-2009, and then decrease or staying the same for 2009-2011. The lower grades show continued increase in interest rates."
   ]
  },
  {
   "cell_type": "code",
   "execution_count": 24,
   "metadata": {},
   "outputs": [
    {
     "data": {
      "text/plain": [
       "<matplotlib.legend.Legend at 0x1a281f8390>"
      ]
     },
     "execution_count": 24,
     "metadata": {},
     "output_type": "execute_result"
    },
    {
     "data": {
      "image/png": "[encoded data removed]",
      "text/plain": [
       "<Figure size 432x288 with 2 Axes>"
      ]
     },
     "metadata": {
      "needs_background": "light"
     },
     "output_type": "display_data"
    }
   ],
   "source": [
    "#2. Can you find trends (e.g. high, low, increasing, decreasing, anomalies)?\n",
    "\n",
    "# People with better credit grades asking for less loans. It makes sense since most of the loans were taken out for credit\n",
    "# consolidation, and people with better credit grades tend to have less credit debts. \n",
    "\n",
    "# interest rates are higher for people with lower credit grades. Overtime, interest rates for people\n",
    "# with better credit grades decrease, and vice versa.\n",
    "\n",
    "f, ((ax1, ax2)) = plt.subplots(1, 2)\n",
    "cmap = plt.cm.coolwarm\n",
    "\n",
    "by_grade = df.groupby(['year', 'grade']).funded_amnt.mean()\n",
    "by_grade.unstack().plot(legend=False, ax=ax1, colormap=cmap)\n",
    "ax1.set_title('Loans issued by Credit Score')\n",
    "    \n",
    "     \n",
    "df['interest']=df.int_rate.apply(lambda x: float(x.strip('%')))   \n",
    "\n",
    "by_int = df.groupby(['year', 'grade']).interest.mean()\n",
    "by_int.unstack().plot(ax=ax2, colormap=cmap)\n",
    "ax2.set_title('Interest Rates by Credit Score')\n",
    "\n",
    "ax2.legend(bbox_to_anchor=(1, 1))"
   ]
  },
  {
   "cell_type": "markdown",
   "metadata": {},
   "source": [
    "* The following figures show the purpose of taking out the loans. The loans are most commonly used for debt consolidation. Other top uses include credit card, home inprovement. The second graph shows what proportion are fully paid or charged off. "
   ]
  },
  {
   "cell_type": "code",
   "execution_count": 25,
   "metadata": {},
   "outputs": [
    {
     "data": {
      "text/plain": [
       "<matplotlib.axes._subplots.AxesSubplot at 0x1a25e2c6a0>"
      ]
     },
     "execution_count": 25,
     "metadata": {},
     "output_type": "execute_result"
    },
    {
     "data": {
      "image/png": "[encoded data removed]",
      "text/plain": [
       "<Figure size 432x288 with 1 Axes>"
      ]
     },
     "metadata": {
      "needs_background": "light"
     },
     "output_type": "display_data"
    }
   ],
   "source": [
    "#3. Can you make a bar plot or a histogram?\n",
    "\n",
    "\n",
    "# most of the loans were used for debt consolidation\n",
    "\n",
    "by_purpose= df.groupby(['purpose']).count()\n",
    "by_purpose.plot.bar(legend=False, colormap=cmap, title='Purpose of Loans')\n",
    "\n",
    "\n",
    "\n"
   ]
  },
  {
   "cell_type": "code",
   "execution_count": 26,
   "metadata": {},
   "outputs": [
    {
     "name": "stderr",
     "output_type": "stream",
     "text": [
      "/Users/jtian/anaconda3/lib/python3.7/site-packages/scipy/stats/stats.py:1713: FutureWarning: Using a non-tuple sequence for multidimensional indexing is deprecated; use `arr[tuple(seq)]` instead of `arr[seq]`. In the future this will be interpreted as an array index, `arr[np.array(seq)]`, which will result either in an error or a different result.\n",
      "  return np.add.reduce(sorted[indexer] * weights, axis=axis) / sumval\n"
     ]
    },
    {
     "data": {
      "text/plain": [
       "(array([ 0,  1,  2,  3,  4,  5,  6,  7,  8,  9, 10, 11, 12, 13]),\n",
       " <a list of 14 Text xticklabel objects>)"
      ]
     },
     "execution_count": 26,
     "metadata": {},
     "output_type": "execute_result"
    },
    {
     "data": {
      "image/png": "[encoded data removed]",
      "text/plain": [
       "<Figure size 432x288 with 1 Axes>"
      ]
     },
     "metadata": {
      "needs_background": "light"
     },
     "output_type": "display_data"
    }
   ],
   "source": [
    "sns.barplot(x=\"purpose\", y=\"funded_amnt\", hue=\"loan_status_new\", data=df,  estimator=lambda x: len(x) / len(df) * 100)\n",
    "\n",
    "plt.xticks(rotation=90)"
   ]
  },
  {
   "cell_type": "markdown",
   "metadata": {},
   "source": [
    "* The following plot compares the amount that are fully paid or charged off over the years. Both show increasing trend."
   ]
  },
  {
   "cell_type": "code",
   "execution_count": 27,
   "metadata": {},
   "outputs": [
    {
     "data": {
      "text/plain": [
       "<matplotlib.axes._subplots.AxesSubplot at 0x1a30e73470>"
      ]
     },
     "execution_count": 27,
     "metadata": {},
     "output_type": "execute_result"
    },
    {
     "data": {
      "image/png": "[encoded data removed]",
      "text/plain": [
       "<Figure size 432x288 with 1 Axes>"
      ]
     },
     "metadata": {
      "needs_background": "light"
     },
     "output_type": "display_data"
    }
   ],
   "source": [
    "#4. Can you compare two related quantities?\n",
    "\n",
    "# comparing good loans with bad loans by year\n",
    "\n",
    "sns.barplot(x=\"year\", y=\"funded_amnt\", hue=\"loan_status_new\", data=df,  estimator=lambda x: len(x) / len(df) * 100)\n"
   ]
  },
  {
   "cell_type": "markdown",
   "metadata": {},
   "source": [
    "* The following scatter plot shows total payment amount vs loan amount. It suggests that majority of loans have total payment amount greater than the loan amount, with the addition of interest payment. "
   ]
  },
  {
   "cell_type": "code",
   "execution_count": 28,
   "metadata": {},
   "outputs": [
    {
     "data": {
      "text/plain": [
       "<matplotlib.axes._subplots.AxesSubplot at 0x1a30de9f28>"
      ]
     },
     "execution_count": 28,
     "metadata": {},
     "output_type": "execute_result"
    },
    {
     "data": {
      "image/png": "[encoded data removed]",
      "text/plain": [
       "<Figure size 432x288 with 1 Axes>"
      ]
     },
     "metadata": {
      "needs_background": "light"
     },
     "output_type": "display_data"
    }
   ],
   "source": [
    "#5.Can you make a scatterplot?\n",
    "\n",
    "# total payment amount vs loan amount: total payment is more than loan amount \n",
    "\n",
    "df.plot.scatter(x='funded_amnt',y='total_pymnt',s=0.5)"
   ]
  },
  {
   "cell_type": "markdown",
   "metadata": {},
   "source": [
    "* The following time-series plot shows the loan amount over the years 2007-2011."
   ]
  },
  {
   "cell_type": "code",
   "execution_count": 29,
   "metadata": {
    "scrolled": true
   },
   "outputs": [
    {
     "data": {
      "text/plain": [
       "<matplotlib.axes._subplots.AxesSubplot at 0x1a30f4f240>"
      ]
     },
     "execution_count": 29,
     "metadata": {},
     "output_type": "execute_result"
    },
    {
     "data": {
      "image/png": "[encoded data removed]",
      "text/plain": [
       "<Figure size 432x288 with 1 Axes>"
      ]
     },
     "metadata": {
      "needs_background": "light"
     },
     "output_type": "display_data"
    }
   ],
   "source": [
    "#6.Can you make a time-series plot?\n",
    "# loan amount over time from 2007-2011\n",
    "\n",
    "\n",
    "\n",
    "amnt_with_time=df.groupby(df['year']).funded_amnt.mean()\n",
    "\n",
    "amnt_with_time.plot()\n",
    "\n"
   ]
  },
  {
   "cell_type": "markdown",
   "metadata": {},
   "source": [
    "## 3. Statistical analysis"
   ]
  },
  {
   "cell_type": "markdown",
   "metadata": {},
   "source": [
    "* Compare the loan amount between different credit scores."
   ]
  },
  {
   "cell_type": "markdown",
   "metadata": {},
   "source": [
    "The t-value of pairwise comparison between different grades"
   ]
  },
  {
   "cell_type": "code",
   "execution_count": 30,
   "metadata": {
    "scrolled": true
   },
   "outputs": [
    {
     "name": "stdout",
     "output_type": "stream",
     "text": [
      "['-29.0', '1.0', '-8.0', '-15.0', '-8.0', 0]\n"
     ]
    }
   ],
   "source": [
    "amount=df['funded_amnt']\n",
    "grade = df['grade']\n",
    "amount_by_grade_t=[0]*6 \n",
    "scores=['A','B','C','D','E','F','G']\n",
    "for i in range(5):\n",
    "        amount_by_grade_t[i] = str(round(stats.ttest_ind(amount[grade==scores[i]], amount[grade==scores[i+1]])[0]))\n",
    "        #amount_by_grade.append(stats.ttest_ind(amount[grade==scores[i]], amount[grade==scores[j]]))\n",
    "\n",
    "print(amount_by_grade_t)\n",
    "\n",
    "    \n",
    "t,p=stats.ttest_ind(amount[grade=='A'], amount[grade=='B'])\n",
    "\n",
    "\n",
    "\n",
    "\n"
   ]
  },
  {
   "cell_type": "markdown",
   "metadata": {},
   "source": [
    "P-value between pairwise grades"
   ]
  },
  {
   "cell_type": "code",
   "execution_count": 31,
   "metadata": {},
   "outputs": [
    {
     "name": "stdout",
     "output_type": "stream",
     "text": [
      "['0.0', '0.0', '0.0', '0.0', '0.0', 0]\n"
     ]
    }
   ],
   "source": [
    "amount_by_grade_p=[0]*6 \n",
    "for i in range(5):\n",
    "    amount_by_grade_p[i] = str(round(stats.ttest_ind(amount[grade==scores[i]], amount[grade==scores[i+1]])[1]))\n",
    "        #amount_by_grade.append(stats.ttest_ind(amount[grade==scores[i]], amount[grade==scores[j]]))\n",
    "\n",
    "print(amount_by_grade_p)"
   ]
  },
  {
   "cell_type": "code",
   "execution_count": 32,
   "metadata": {},
   "outputs": [
    {
     "data": {
      "image/png": "[encoded data removed]",
      "text/plain": [
       "<Figure size 432x288 with 1 Axes>"
      ]
     },
     "metadata": {
      "needs_background": "light"
     },
     "output_type": "display_data"
    }
   ],
   "source": [
    "ax = sns.boxplot(x=grade, y=amount, data=df)"
   ]
  },
  {
   "cell_type": "code",
   "execution_count": 36,
   "metadata": {},
   "outputs": [
    {
     "data": {
      "image/png": "[encoded data removed]",
      "text/plain": [
       "<Figure size 432x288 with 1 Axes>"
      ]
     },
     "metadata": {
      "needs_background": "light"
     },
     "output_type": "display_data"
    }
   ],
   "source": [
    "interest=df['interest']\n",
    "ax = sns.boxplot(x=grade, y=interest, data=df)"
   ]
  },
  {
   "cell_type": "markdown",
   "metadata": {},
   "source": [
    "* Compare the interest rate between different credit scores"
   ]
  },
  {
   "cell_type": "code",
   "execution_count": 37,
   "metadata": {},
   "outputs": [
    {
     "data": {
      "text/plain": [
       "Ttest_indResult(statistic=-284.4678207550045, pvalue=0.0)"
      ]
     },
     "execution_count": 37,
     "metadata": {},
     "output_type": "execute_result"
    }
   ],
   "source": [
    "\n",
    "stats.ttest_ind(interest[grade=='A'], interest[grade=='B'])\n"
   ]
  },
  {
   "cell_type": "markdown",
   "metadata": {},
   "source": [
    "* Using chi-square test to compare the amount of loans that are fully paid or charged off across different credit scores. There is significant difference in the amount of charged of vs fully paid loans given different credit scores. Better grades have less charged off loans compared to lower grades. "
   ]
  },
  {
   "cell_type": "code",
   "execution_count": 38,
   "metadata": {},
   "outputs": [
    {
     "name": "stdout",
     "output_type": "stream",
     "text": [
      "loan_status_new  Charged Off  Fully Paid\n",
      "grade                                   \n",
      "A                        610        9573\n",
      "B                       1518       10871\n",
      "C                       1504        7236\n",
      "D                       1327        4689\n",
      "E                        883        2511\n",
      "F                        416         885\n",
      "G                        173         339\n",
      "0.0 [[ 1539.59969437  8643.40030563]\n",
      " [ 1873.13175032 10515.86824968]\n",
      " [ 1321.42800047  7418.57199953]\n",
      " [  909.57790055  5106.42209945]\n",
      " [  513.14950041  2880.85049959]\n",
      " [  196.70226872  1104.29773128]\n",
      " [   77.41088515   434.58911485]]\n"
     ]
    }
   ],
   "source": [
    "status=df['loan_status_new']\n",
    "freq_table=pd.crosstab(grade,status)\n",
    "print(freq_table)\n",
    "chi2, p, dof, expected=stats.chi2_contingency(freq_table)\n",
    "print(p,expected)"
   ]
  },
  {
   "cell_type": "markdown",
   "metadata": {},
   "source": [
    "* Finding the correlation between interest rate and loan amount. There is slight positive correlation between the two, suggesting higher loan amount tends to have higher interest rates. "
   ]
  },
  {
   "cell_type": "code",
   "execution_count": 39,
   "metadata": {},
   "outputs": [
    {
     "data": {
      "text/plain": [
       "SpearmanrResult(correlation=0.24290845587879667, pvalue=0.0)"
      ]
     },
     "execution_count": 39,
     "metadata": {},
     "output_type": "execute_result"
    }
   ],
   "source": [
    "stats.spearmanr(interest,amount)"
   ]
  },
  {
   "cell_type": "code",
   "execution_count": 40,
   "metadata": {},
   "outputs": [
    {
     "data": {
      "text/plain": [
       "<matplotlib.collections.PathCollection at 0x1a28776550>"
      ]
     },
     "execution_count": 40,
     "metadata": {},
     "output_type": "execute_result"
    },
    {
     "data": {
      "image/png": "[encoded data removed]",
      "text/plain": [
       "<Figure size 432x288 with 1 Axes>"
      ]
     },
     "metadata": {
      "needs_background": "light"
     },
     "output_type": "display_data"
    }
   ],
   "source": [
    "plt.scatter(amount,interest)"
   ]
  },
  {
   "cell_type": "code",
   "execution_count": 41,
   "metadata": {},
   "outputs": [
    {
     "data": {
      "text/plain": [
       "<seaborn.axisgrid.JointGrid at 0x1a285b2d30>"
      ]
     },
     "execution_count": 41,
     "metadata": {},
     "output_type": "execute_result"
    },
    {
     "data": {
      "image/png": "[encoded data removed]",
      "text/plain": [
       "<Figure size 432x432 with 3 Axes>"
      ]
     },
     "metadata": {
      "needs_background": "light"
     },
     "output_type": "display_data"
    }
   ],
   "source": [
    "sns.jointplot(x=amount, y=interest, data=df)"
   ]
  },
  {
   "cell_type": "code",
   "execution_count": 42,
   "metadata": {},
   "outputs": [
    {
     "data": {
      "text/plain": [
       "<seaborn.axisgrid.JointGrid at 0x1a33de7208>"
      ]
     },
     "execution_count": 42,
     "metadata": {},
     "output_type": "execute_result"
    },
    {
     "data": {
      "image/png": "[encoded data removed]",
      "text/plain": [
       "<Figure size 432x432 with 3 Axes>"
      ]
     },
     "metadata": {
      "needs_background": "light"
     },
     "output_type": "display_data"
    }
   ],
   "source": [
    "\n",
    "sns.jointplot(x=amount, y=interest, data=df, kind=\"kde\")"
   ]
  },
  {
   "cell_type": "markdown",
   "metadata": {},
   "source": [
    "## 4. Supervised Learning"
   ]
  },
  {
   "cell_type": "code",
   "execution_count": null,
   "metadata": {},
   "outputs": [],
   "source": []
  },
  {
   "cell_type": "code",
   "execution_count": 256,
   "metadata": {},
   "outputs": [],
   "source": [
    "from sklearn.model_selection import train_test_split, KFold,cross_val_predict\n",
    "from sklearn.model_selection import cross_val_score\n",
    "from sklearn.model_selection import GridSearchCV\n",
    "from sklearn.preprocessing import StandardScaler\n",
    "from sklearn.metrics import confusion_matrix\n",
    "from sklearn.metrics import roc_auc_score\n",
    "from sklearn.metrics import roc_curve\n",
    "from scipy.stats import boxcox"
   ]
  },
  {
   "cell_type": "code",
   "execution_count": 332,
   "metadata": {},
   "outputs": [
    {
     "data": {
      "text/html": [
       "<div>\n",
       "<style scoped>\n",
       "    .dataframe tbody tr th:only-of-type {\n",
       "        vertical-align: middle;\n",
       "    }\n",
       "\n",
       "    .dataframe tbody tr th {\n",
       "        vertical-align: top;\n",
       "    }\n",
       "\n",
       "    .dataframe thead th {\n",
       "        text-align: right;\n",
       "    }\n",
       "</style>\n",
       "<table border=\"1\" class=\"dataframe\">\n",
       "  <thead>\n",
       "    <tr style=\"text-align: right;\">\n",
       "      <th></th>\n",
       "      <th>funded_amnt</th>\n",
       "      <th>int_rate</th>\n",
       "      <th>grade</th>\n",
       "      <th>emp_length</th>\n",
       "      <th>home_ownership</th>\n",
       "      <th>purpose</th>\n",
       "      <th>dti</th>\n",
       "      <th>delinq_2yrs</th>\n",
       "      <th>loan_status_new</th>\n",
       "    </tr>\n",
       "  </thead>\n",
       "  <tbody>\n",
       "    <tr>\n",
       "      <th>0</th>\n",
       "      <td>5000.0</td>\n",
       "      <td>10.65%</td>\n",
       "      <td>B</td>\n",
       "      <td>10+ years</td>\n",
       "      <td>RENT</td>\n",
       "      <td>credit_card</td>\n",
       "      <td>27.65</td>\n",
       "      <td>0.0</td>\n",
       "      <td>Fully Paid</td>\n",
       "    </tr>\n",
       "    <tr>\n",
       "      <th>1</th>\n",
       "      <td>2500.0</td>\n",
       "      <td>15.27%</td>\n",
       "      <td>C</td>\n",
       "      <td>&lt; 1 year</td>\n",
       "      <td>RENT</td>\n",
       "      <td>car</td>\n",
       "      <td>1.00</td>\n",
       "      <td>0.0</td>\n",
       "      <td>Charged Off</td>\n",
       "    </tr>\n",
       "    <tr>\n",
       "      <th>2</th>\n",
       "      <td>2400.0</td>\n",
       "      <td>15.96%</td>\n",
       "      <td>C</td>\n",
       "      <td>10+ years</td>\n",
       "      <td>RENT</td>\n",
       "      <td>small_business</td>\n",
       "      <td>8.72</td>\n",
       "      <td>0.0</td>\n",
       "      <td>Fully Paid</td>\n",
       "    </tr>\n",
       "    <tr>\n",
       "      <th>3</th>\n",
       "      <td>10000.0</td>\n",
       "      <td>13.49%</td>\n",
       "      <td>C</td>\n",
       "      <td>10+ years</td>\n",
       "      <td>RENT</td>\n",
       "      <td>other</td>\n",
       "      <td>20.00</td>\n",
       "      <td>0.0</td>\n",
       "      <td>Fully Paid</td>\n",
       "    </tr>\n",
       "    <tr>\n",
       "      <th>4</th>\n",
       "      <td>3000.0</td>\n",
       "      <td>12.69%</td>\n",
       "      <td>B</td>\n",
       "      <td>1 year</td>\n",
       "      <td>RENT</td>\n",
       "      <td>other</td>\n",
       "      <td>17.94</td>\n",
       "      <td>0.0</td>\n",
       "      <td>Fully Paid</td>\n",
       "    </tr>\n",
       "    <tr>\n",
       "      <th>5</th>\n",
       "      <td>5000.0</td>\n",
       "      <td>7.90%</td>\n",
       "      <td>A</td>\n",
       "      <td>3 years</td>\n",
       "      <td>RENT</td>\n",
       "      <td>wedding</td>\n",
       "      <td>11.20</td>\n",
       "      <td>0.0</td>\n",
       "      <td>Fully Paid</td>\n",
       "    </tr>\n",
       "    <tr>\n",
       "      <th>6</th>\n",
       "      <td>7000.0</td>\n",
       "      <td>15.96%</td>\n",
       "      <td>C</td>\n",
       "      <td>8 years</td>\n",
       "      <td>RENT</td>\n",
       "      <td>debt_consolidation</td>\n",
       "      <td>23.51</td>\n",
       "      <td>0.0</td>\n",
       "      <td>Fully Paid</td>\n",
       "    </tr>\n",
       "    <tr>\n",
       "      <th>7</th>\n",
       "      <td>3000.0</td>\n",
       "      <td>18.64%</td>\n",
       "      <td>E</td>\n",
       "      <td>9 years</td>\n",
       "      <td>RENT</td>\n",
       "      <td>car</td>\n",
       "      <td>5.35</td>\n",
       "      <td>0.0</td>\n",
       "      <td>Fully Paid</td>\n",
       "    </tr>\n",
       "    <tr>\n",
       "      <th>8</th>\n",
       "      <td>5600.0</td>\n",
       "      <td>21.28%</td>\n",
       "      <td>F</td>\n",
       "      <td>4 years</td>\n",
       "      <td>OWN</td>\n",
       "      <td>small_business</td>\n",
       "      <td>5.55</td>\n",
       "      <td>0.0</td>\n",
       "      <td>Charged Off</td>\n",
       "    </tr>\n",
       "    <tr>\n",
       "      <th>9</th>\n",
       "      <td>5375.0</td>\n",
       "      <td>12.69%</td>\n",
       "      <td>B</td>\n",
       "      <td>&lt; 1 year</td>\n",
       "      <td>RENT</td>\n",
       "      <td>other</td>\n",
       "      <td>18.08</td>\n",
       "      <td>0.0</td>\n",
       "      <td>Charged Off</td>\n",
       "    </tr>\n",
       "  </tbody>\n",
       "</table>\n",
       "</div>"
      ],
      "text/plain": [
       "   funded_amnt int_rate grade emp_length home_ownership             purpose  \\\n",
       "0       5000.0   10.65%     B  10+ years           RENT         credit_card   \n",
       "1       2500.0   15.27%     C   < 1 year           RENT                 car   \n",
       "2       2400.0   15.96%     C  10+ years           RENT      small_business   \n",
       "3      10000.0   13.49%     C  10+ years           RENT               other   \n",
       "4       3000.0   12.69%     B     1 year           RENT               other   \n",
       "5       5000.0    7.90%     A    3 years           RENT             wedding   \n",
       "6       7000.0   15.96%     C    8 years           RENT  debt_consolidation   \n",
       "7       3000.0   18.64%     E    9 years           RENT                 car   \n",
       "8       5600.0   21.28%     F    4 years            OWN      small_business   \n",
       "9       5375.0   12.69%     B   < 1 year           RENT               other   \n",
       "\n",
       "     dti  delinq_2yrs loan_status_new  \n",
       "0  27.65          0.0      Fully Paid  \n",
       "1   1.00          0.0     Charged Off  \n",
       "2   8.72          0.0      Fully Paid  \n",
       "3  20.00          0.0      Fully Paid  \n",
       "4  17.94          0.0      Fully Paid  \n",
       "5  11.20          0.0      Fully Paid  \n",
       "6  23.51          0.0      Fully Paid  \n",
       "7   5.35          0.0      Fully Paid  \n",
       "8   5.55          0.0     Charged Off  \n",
       "9  18.08          0.0     Charged Off  "
      ]
     },
     "execution_count": 332,
     "metadata": {},
     "output_type": "execute_result"
    }
   ],
   "source": [
    "df1 = df.filter(['funded_amnt','term','int_rate','installment','grade','sub_grade','emp_length','home_ownership',\n",
    "                    'annual_inc','verification_status','purpose','dti','delinq_2yrs','loan_status_new'])\n",
    "df1=df1.dropna(axis=0)\n",
    "df1.drop(['installment','sub_grade','verification_status','term'], axis=1, inplace = True)\n",
    "#df1.drop(['purpose'], axis=1, inplace = True)\n",
    "#df1.drop(['home_ownership'], axis=1, inplace = True)\n",
    "df1.head(10)"
   ]
  },
  {
   "cell_type": "code",
   "execution_count": 333,
   "metadata": {},
   "outputs": [
    {
     "data": {
      "text/html": [
       "<div>\n",
       "<style scoped>\n",
       "    .dataframe tbody tr th:only-of-type {\n",
       "        vertical-align: middle;\n",
       "    }\n",
       "\n",
       "    .dataframe tbody tr th {\n",
       "        vertical-align: top;\n",
       "    }\n",
       "\n",
       "    .dataframe thead th {\n",
       "        text-align: right;\n",
       "    }\n",
       "</style>\n",
       "<table border=\"1\" class=\"dataframe\">\n",
       "  <thead>\n",
       "    <tr style=\"text-align: right;\">\n",
       "      <th></th>\n",
       "      <th>funded_amnt</th>\n",
       "      <th>grade</th>\n",
       "      <th>emp_length</th>\n",
       "      <th>home_ownership</th>\n",
       "      <th>purpose</th>\n",
       "      <th>dti</th>\n",
       "      <th>delinq_2yrs</th>\n",
       "      <th>loan_status_new</th>\n",
       "      <th>int_rate_new</th>\n",
       "    </tr>\n",
       "  </thead>\n",
       "  <tbody>\n",
       "    <tr>\n",
       "      <th>0</th>\n",
       "      <td>5000.0</td>\n",
       "      <td>B</td>\n",
       "      <td>10+ years</td>\n",
       "      <td>RENT</td>\n",
       "      <td>credit_card</td>\n",
       "      <td>27.65</td>\n",
       "      <td>0.0</td>\n",
       "      <td>Fully Paid</td>\n",
       "      <td>10.65</td>\n",
       "    </tr>\n",
       "    <tr>\n",
       "      <th>1</th>\n",
       "      <td>2500.0</td>\n",
       "      <td>C</td>\n",
       "      <td>&lt; 1 year</td>\n",
       "      <td>RENT</td>\n",
       "      <td>car</td>\n",
       "      <td>1.00</td>\n",
       "      <td>0.0</td>\n",
       "      <td>Charged Off</td>\n",
       "      <td>15.27</td>\n",
       "    </tr>\n",
       "    <tr>\n",
       "      <th>2</th>\n",
       "      <td>2400.0</td>\n",
       "      <td>C</td>\n",
       "      <td>10+ years</td>\n",
       "      <td>RENT</td>\n",
       "      <td>small_business</td>\n",
       "      <td>8.72</td>\n",
       "      <td>0.0</td>\n",
       "      <td>Fully Paid</td>\n",
       "      <td>15.96</td>\n",
       "    </tr>\n",
       "    <tr>\n",
       "      <th>3</th>\n",
       "      <td>10000.0</td>\n",
       "      <td>C</td>\n",
       "      <td>10+ years</td>\n",
       "      <td>RENT</td>\n",
       "      <td>other</td>\n",
       "      <td>20.00</td>\n",
       "      <td>0.0</td>\n",
       "      <td>Fully Paid</td>\n",
       "      <td>13.49</td>\n",
       "    </tr>\n",
       "    <tr>\n",
       "      <th>4</th>\n",
       "      <td>3000.0</td>\n",
       "      <td>B</td>\n",
       "      <td>1 year</td>\n",
       "      <td>RENT</td>\n",
       "      <td>other</td>\n",
       "      <td>17.94</td>\n",
       "      <td>0.0</td>\n",
       "      <td>Fully Paid</td>\n",
       "      <td>12.69</td>\n",
       "    </tr>\n",
       "    <tr>\n",
       "      <th>5</th>\n",
       "      <td>5000.0</td>\n",
       "      <td>A</td>\n",
       "      <td>3 years</td>\n",
       "      <td>RENT</td>\n",
       "      <td>wedding</td>\n",
       "      <td>11.20</td>\n",
       "      <td>0.0</td>\n",
       "      <td>Fully Paid</td>\n",
       "      <td>7.90</td>\n",
       "    </tr>\n",
       "    <tr>\n",
       "      <th>6</th>\n",
       "      <td>7000.0</td>\n",
       "      <td>C</td>\n",
       "      <td>8 years</td>\n",
       "      <td>RENT</td>\n",
       "      <td>debt_consolidation</td>\n",
       "      <td>23.51</td>\n",
       "      <td>0.0</td>\n",
       "      <td>Fully Paid</td>\n",
       "      <td>15.96</td>\n",
       "    </tr>\n",
       "    <tr>\n",
       "      <th>7</th>\n",
       "      <td>3000.0</td>\n",
       "      <td>E</td>\n",
       "      <td>9 years</td>\n",
       "      <td>RENT</td>\n",
       "      <td>car</td>\n",
       "      <td>5.35</td>\n",
       "      <td>0.0</td>\n",
       "      <td>Fully Paid</td>\n",
       "      <td>18.64</td>\n",
       "    </tr>\n",
       "    <tr>\n",
       "      <th>8</th>\n",
       "      <td>5600.0</td>\n",
       "      <td>F</td>\n",
       "      <td>4 years</td>\n",
       "      <td>OWN</td>\n",
       "      <td>small_business</td>\n",
       "      <td>5.55</td>\n",
       "      <td>0.0</td>\n",
       "      <td>Charged Off</td>\n",
       "      <td>21.28</td>\n",
       "    </tr>\n",
       "    <tr>\n",
       "      <th>9</th>\n",
       "      <td>5375.0</td>\n",
       "      <td>B</td>\n",
       "      <td>&lt; 1 year</td>\n",
       "      <td>RENT</td>\n",
       "      <td>other</td>\n",
       "      <td>18.08</td>\n",
       "      <td>0.0</td>\n",
       "      <td>Charged Off</td>\n",
       "      <td>12.69</td>\n",
       "    </tr>\n",
       "  </tbody>\n",
       "</table>\n",
       "</div>"
      ],
      "text/plain": [
       "   funded_amnt grade emp_length home_ownership             purpose    dti  \\\n",
       "0       5000.0     B  10+ years           RENT         credit_card  27.65   \n",
       "1       2500.0     C   < 1 year           RENT                 car   1.00   \n",
       "2       2400.0     C  10+ years           RENT      small_business   8.72   \n",
       "3      10000.0     C  10+ years           RENT               other  20.00   \n",
       "4       3000.0     B     1 year           RENT               other  17.94   \n",
       "5       5000.0     A    3 years           RENT             wedding  11.20   \n",
       "6       7000.0     C    8 years           RENT  debt_consolidation  23.51   \n",
       "7       3000.0     E    9 years           RENT                 car   5.35   \n",
       "8       5600.0     F    4 years            OWN      small_business   5.55   \n",
       "9       5375.0     B   < 1 year           RENT               other  18.08   \n",
       "\n",
       "   delinq_2yrs loan_status_new  int_rate_new  \n",
       "0          0.0      Fully Paid         10.65  \n",
       "1          0.0     Charged Off         15.27  \n",
       "2          0.0      Fully Paid         15.96  \n",
       "3          0.0      Fully Paid         13.49  \n",
       "4          0.0      Fully Paid         12.69  \n",
       "5          0.0      Fully Paid          7.90  \n",
       "6          0.0      Fully Paid         15.96  \n",
       "7          0.0      Fully Paid         18.64  \n",
       "8          0.0     Charged Off         21.28  \n",
       "9          0.0     Charged Off         12.69  "
      ]
     },
     "execution_count": 333,
     "metadata": {},
     "output_type": "execute_result"
    }
   ],
   "source": [
    "#df1['emp_length']=df1['emp_length'].apply(lambda x: str(x.split(' ')[0]))\n",
    "df1['int_rate_new']=df1['int_rate'].apply(lambda x: float(x.split('%')[0]))\n",
    "df1.drop(['int_rate'],axis=1, inplace = True)\n",
    "df1.head(10)"
   ]
  },
  {
   "cell_type": "code",
   "execution_count": 334,
   "metadata": {},
   "outputs": [
    {
     "data": {
      "text/plain": [
       "1    36104\n",
       "0     6431\n",
       "Name: loan_status_new, dtype: int64"
      ]
     },
     "execution_count": 334,
     "metadata": {},
     "output_type": "execute_result"
    }
   ],
   "source": [
    "df1['loan_status_new']=df1['loan_status_new'].astype('category').cat.codes\n",
    "#cleanup_nums = {\"loan_status_new\":{\"Fully Paid\": 1, \"Charged Off\": 0}}\n",
    "#df1.replace(cleanup_nums,inplace=True)\n",
    "#df1.replace({'Fully Paid': 1, 'Charged Off': 0})\n",
    "\n",
    "df1.head()\n",
    "df1['loan_status_new'].value_counts()"
   ]
  },
  {
   "cell_type": "code",
   "execution_count": 335,
   "metadata": {},
   "outputs": [
    {
     "data": {
      "text/plain": [
       "funded_amnt        float64\n",
       "grade               object\n",
       "emp_length          object\n",
       "home_ownership      object\n",
       "purpose             object\n",
       "dti                float64\n",
       "delinq_2yrs        float64\n",
       "loan_status_new       int8\n",
       "int_rate_new       float64\n",
       "dtype: object"
      ]
     },
     "execution_count": 335,
     "metadata": {},
     "output_type": "execute_result"
    }
   ],
   "source": [
    "df1.dtypes"
   ]
  },
  {
   "cell_type": "code",
   "execution_count": 336,
   "metadata": {},
   "outputs": [
    {
     "name": "stdout",
     "output_type": "stream",
     "text": [
      "funded_amnt                   float64\n",
      "dti                           float64\n",
      "delinq_2yrs                   float64\n",
      "loan_status_new                  int8\n",
      "int_rate_new                  float64\n",
      "grade_B                         uint8\n",
      "grade_C                         uint8\n",
      "grade_D                         uint8\n",
      "grade_E                         uint8\n",
      "grade_F                         uint8\n",
      "grade_G                         uint8\n",
      "emp_length_1 year               uint8\n",
      "emp_length_10+ years            uint8\n",
      "emp_length_2 years              uint8\n",
      "emp_length_3 years              uint8\n",
      "emp_length_4 years              uint8\n",
      "emp_length_5 years              uint8\n",
      "emp_length_6 years              uint8\n",
      "emp_length_7 years              uint8\n",
      "emp_length_8 years              uint8\n",
      "emp_length_9 years              uint8\n",
      "emp_length_< 1 year             uint8\n",
      "home_ownership_NONE             uint8\n",
      "home_ownership_OTHER            uint8\n",
      "home_ownership_OWN              uint8\n",
      "home_ownership_RENT             uint8\n",
      "purpose_credit_card             uint8\n",
      "purpose_debt_consolidation      uint8\n",
      "purpose_educational             uint8\n",
      "purpose_home_improvement        uint8\n",
      "purpose_house                   uint8\n",
      "purpose_major_purchase          uint8\n",
      "purpose_medical                 uint8\n",
      "purpose_moving                  uint8\n",
      "purpose_other                   uint8\n",
      "purpose_renewable_energy        uint8\n",
      "purpose_small_business          uint8\n",
      "purpose_vacation                uint8\n",
      "purpose_wedding                 uint8\n",
      "dtype: object\n",
      "   funded_amnt    dti  delinq_2yrs  loan_status_new  int_rate_new  grade_B  \\\n",
      "0       5000.0  27.65          0.0                1         10.65        1   \n",
      "1       2500.0   1.00          0.0                0         15.27        0   \n",
      "2       2400.0   8.72          0.0                1         15.96        0   \n",
      "3      10000.0  20.00          0.0                1         13.49        0   \n",
      "4       3000.0  17.94          0.0                1         12.69        1   \n",
      "\n",
      "   grade_C  grade_D  grade_E  grade_F       ...         \\\n",
      "0        0        0        0        0       ...          \n",
      "1        1        0        0        0       ...          \n",
      "2        1        0        0        0       ...          \n",
      "3        1        0        0        0       ...          \n",
      "4        0        0        0        0       ...          \n",
      "\n",
      "   purpose_home_improvement  purpose_house  purpose_major_purchase  \\\n",
      "0                         0              0                       0   \n",
      "1                         0              0                       0   \n",
      "2                         0              0                       0   \n",
      "3                         0              0                       0   \n",
      "4                         0              0                       0   \n",
      "\n",
      "   purpose_medical  purpose_moving  purpose_other  purpose_renewable_energy  \\\n",
      "0                0               0              0                         0   \n",
      "1                0               0              0                         0   \n",
      "2                0               0              0                         0   \n",
      "3                0               0              1                         0   \n",
      "4                0               0              1                         0   \n",
      "\n",
      "   purpose_small_business  purpose_vacation  purpose_wedding  \n",
      "0                       0                 0                0  \n",
      "1                       0                 0                0  \n",
      "2                       1                 0                0  \n",
      "3                       0                 0                0  \n",
      "4                       0                 0                0  \n",
      "\n",
      "[5 rows x 39 columns]\n"
     ]
    }
   ],
   "source": [
    "df2 = pd.get_dummies(df1, drop_first=True)\n",
    "print(df2.dtypes)\n",
    "df2['loan_status_new'].value_counts()\n",
    "print(df2.head())"
   ]
  },
  {
   "cell_type": "code",
   "execution_count": 246,
   "metadata": {},
   "outputs": [
    {
     "name": "stdout",
     "output_type": "stream",
     "text": [
      "1    11963\n",
      "0     2074\n",
      "Name: loan_status_new, dtype: int64\n",
      "1    24141\n",
      "0     4357\n",
      "Name: loan_status_new, dtype: int64\n"
     ]
    }
   ],
   "source": [
    "\n",
    "\n",
    "X= df2.drop('loan_status_new', axis=1)\n",
    "y = df2['loan_status_new']\n",
    "\n",
    "X_train, X_test, y_train, y_test = train_test_split(X, y, test_size=0.33, random_state=42)\n",
    "\n",
    "print(y_test.value_counts())\n",
    "print(y_train.value_counts())"
   ]
  },
  {
   "cell_type": "code",
   "execution_count": 270,
   "metadata": {},
   "outputs": [
    {
     "name": "stdout",
     "output_type": "stream",
     "text": [
      "Roc auc score is 0.6033371458493324\n"
     ]
    }
   ],
   "source": [
    "from sklearn.linear_model import LogisticRegression\n",
    "from sklearn.metrics import accuracy_score\n",
    "from sklearn.metrics import roc_auc_score\n",
    "\n",
    "clf = LogisticRegression(solver='lbfgs')\n",
    "\n",
    "#kf=KFold(10, random_state=1)\n",
    "# Fit the model on the trainng data.\n",
    "\n",
    "clf.fit(X_train, y_train)\n",
    "\n",
    "#clf_prediction_train=cross_val_predict(clf,X_train, y_train, cv=kf, method='predict_proba')\n",
    "#train_roc = roc_auc_score(y_train, clf_prediction_train[:,1])\n",
    "\n",
    "pred = clf.predict_proba(X_test)\n",
    "test_roc = roc_auc_score(y_test, pred[:,1])\n",
    "\n",
    "#print('train roc is '+ str(train_roc))\n",
    "print('Roc auc score is '+ str(test_roc))\n",
    "# Print the accuracy from the testing data.\n",
    "#print(roc_auc_score(y_test, clf.predict(X_test)))"
   ]
  },
  {
   "cell_type": "code",
   "execution_count": 284,
   "metadata": {},
   "outputs": [
    {
     "name": "stdout",
     "output_type": "stream",
     "text": [
      "Confusion matrix, without normalization\n",
      "[[    0  2074]\n",
      " [    0 11963]]\n"
     ]
    },
    {
     "data": {
      "image/png": "[encoded data removed]",
      "text/plain": [
       "<Figure size 648x504 with 2 Axes>"
      ]
     },
     "metadata": {
      "needs_background": "light"
     },
     "output_type": "display_data"
    }
   ],
   "source": [
    "import itertools\n",
    "def plot_confusion_matrix(cm, classes,\n",
    "                          normalize=False,\n",
    "                          title='Confusion matrix',\n",
    "                          cmap=plt.cm.Blues):\n",
    "    \n",
    "    '''Function to display confusion matrix from sickit learn\n",
    "    documentation'''\n",
    "    if normalize:\n",
    "        cm = cm.astype('float') / cm.sum(axis=1)[:, np.newaxis]\n",
    "        print(\"Normalized confusion matrix\")\n",
    "    else:\n",
    "        print('Confusion matrix, without normalization')\n",
    "\n",
    "    print(cm)\n",
    "\n",
    "    plt.imshow(cm, interpolation='nearest', cmap=cmap)\n",
    "    plt.title(title)\n",
    "    plt.colorbar()\n",
    "    tick_marks = np.arange(len(classes))\n",
    "    plt.xticks(tick_marks, classes, rotation=45)\n",
    "    plt.yticks(tick_marks, classes)\n",
    "\n",
    "    fmt = '.2f' if normalize else 'd'\n",
    "    thresh = cm.max() / 2.\n",
    "    for i, j in itertools.product(range(cm.shape[0]), range(cm.shape[1])):\n",
    "        plt.text(j, i, format(cm[i, j], fmt),\n",
    "                 horizontalalignment=\"center\",\n",
    "                 color=\"white\" if cm[i, j] > thresh else \"black\")\n",
    "\n",
    "    plt.ylabel('True label')\n",
    "    plt.xlabel('Predicted label')\n",
    "    plt.tight_layout()\n",
    "    plt.grid(False)\n",
    "\n",
    "\n",
    "# Compute confusion matrix\n",
    "cnf_matrix= confusion_matrix(y_test, clf.predict(X_test))\n",
    "class_names = ['Charged Off', \"Fully Paid\"]\n",
    "np.set_printoptions(precision=2)\n",
    "\n",
    "# Plot hold out set confusion matrix\n",
    "plt.figure(figsize = (9,7))\n",
    "plot_confusion_matrix(cnf_matrix, classes=class_names, title='Baseline Confusion matrix ')"
   ]
  },
  {
   "cell_type": "code",
   "execution_count": 267,
   "metadata": {
    "scrolled": true
   },
   "outputs": [
    {
     "name": "stdout",
     "output_type": "stream",
     "text": [
      "LDA [0.84568421 0.84577324 0.84514159] 0.8455330145555487\n",
      "MNB [0.84094737 0.84219392 0.83440362] 0.8391816350012836\n",
      "RF [0.83810526 0.83977261 0.84029898] 0.8393922832135607\n"
     ]
    },
    {
     "name": "stderr",
     "output_type": "stream",
     "text": [
      "/Users/jtian/anaconda3/lib/python3.7/site-packages/sklearn/linear_model/logistic.py:433: FutureWarning: Default solver will be changed to 'lbfgs' in 0.22. Specify a solver to silence this warning.\n",
      "  FutureWarning)\n",
      "/Users/jtian/anaconda3/lib/python3.7/site-packages/sklearn/linear_model/logistic.py:433: FutureWarning: Default solver will be changed to 'lbfgs' in 0.22. Specify a solver to silence this warning.\n",
      "  FutureWarning)\n"
     ]
    },
    {
     "name": "stdout",
     "output_type": "stream",
     "text": [
      "LR [0.84705263 0.84703653 0.8471418 ] 0.8470769887134934\n"
     ]
    },
    {
     "name": "stderr",
     "output_type": "stream",
     "text": [
      "/Users/jtian/anaconda3/lib/python3.7/site-packages/sklearn/linear_model/logistic.py:433: FutureWarning: Default solver will be changed to 'lbfgs' in 0.22. Specify a solver to silence this warning.\n",
      "  FutureWarning)\n"
     ]
    }
   ],
   "source": [
    "from sklearn.discriminant_analysis import LinearDiscriminantAnalysis\n",
    "from sklearn.ensemble import RandomForestClassifier\n",
    "from sklearn.linear_model import LogisticRegression\n",
    "from sklearn.naive_bayes import MultinomialNB\n",
    "\n",
    "models = {'LDA': LinearDiscriminantAnalysis(),\n",
    "          'MNB': MultinomialNB(),\n",
    "          'RF': RandomForestClassifier(n_estimators=100),\n",
    "          'LR': LogisticRegression(C=1)}\n",
    "\n",
    "unbalset = {}\n",
    "for i in models.keys():\n",
    "    scores = cross_val_score(models[i], X_train, y_train, cv=3)\n",
    "    unbalset[i] = scores\n",
    "    print(i, scores, np.mean(scores))"
   ]
  },
  {
   "cell_type": "code",
   "execution_count": null,
   "metadata": {},
   "outputs": [],
   "source": []
  },
  {
   "cell_type": "code",
   "execution_count": 281,
   "metadata": {},
   "outputs": [
    {
     "name": "stderr",
     "output_type": "stream",
     "text": [
      "/Users/jtian/anaconda3/lib/python3.7/site-packages/sklearn/linear_model/logistic.py:758: ConvergenceWarning: lbfgs failed to converge. Increase the number of iterations.\n",
      "  \"of iterations.\", ConvergenceWarning)\n",
      "/Users/jtian/anaconda3/lib/python3.7/site-packages/sklearn/linear_model/logistic.py:758: ConvergenceWarning: lbfgs failed to converge. Increase the number of iterations.\n",
      "  \"of iterations.\", ConvergenceWarning)\n",
      "/Users/jtian/anaconda3/lib/python3.7/site-packages/sklearn/linear_model/logistic.py:758: ConvergenceWarning: lbfgs failed to converge. Increase the number of iterations.\n",
      "  \"of iterations.\", ConvergenceWarning)\n",
      "/Users/jtian/anaconda3/lib/python3.7/site-packages/sklearn/linear_model/logistic.py:758: ConvergenceWarning: lbfgs failed to converge. Increase the number of iterations.\n",
      "  \"of iterations.\", ConvergenceWarning)\n",
      "/Users/jtian/anaconda3/lib/python3.7/site-packages/sklearn/linear_model/logistic.py:758: ConvergenceWarning: lbfgs failed to converge. Increase the number of iterations.\n",
      "  \"of iterations.\", ConvergenceWarning)\n",
      "/Users/jtian/anaconda3/lib/python3.7/site-packages/sklearn/linear_model/logistic.py:758: ConvergenceWarning: lbfgs failed to converge. Increase the number of iterations.\n",
      "  \"of iterations.\", ConvergenceWarning)\n",
      "/Users/jtian/anaconda3/lib/python3.7/site-packages/sklearn/linear_model/logistic.py:758: ConvergenceWarning: lbfgs failed to converge. Increase the number of iterations.\n",
      "  \"of iterations.\", ConvergenceWarning)\n",
      "/Users/jtian/anaconda3/lib/python3.7/site-packages/sklearn/linear_model/logistic.py:758: ConvergenceWarning: lbfgs failed to converge. Increase the number of iterations.\n",
      "  \"of iterations.\", ConvergenceWarning)\n",
      "/Users/jtian/anaconda3/lib/python3.7/site-packages/sklearn/linear_model/logistic.py:758: ConvergenceWarning: lbfgs failed to converge. Increase the number of iterations.\n",
      "  \"of iterations.\", ConvergenceWarning)\n"
     ]
    },
    {
     "data": {
      "text/plain": [
       "(LogisticRegression(C=100, class_weight=None, dual=False, fit_intercept=True,\n",
       "           intercept_scaling=1, max_iter=100, multi_class='warn',\n",
       "           n_jobs=None, penalty='l2', random_state=None, solver='lbfgs',\n",
       "           tol=0.0001, verbose=0, warm_start=False),\n",
       " {'C': 100, 'class_weight': None},\n",
       " 0.6369589885321794)"
      ]
     },
     "execution_count": 281,
     "metadata": {},
     "output_type": "execute_result"
    }
   ],
   "source": [
    "# Logistic Regression\n",
    "\n",
    "clfl2=LogisticRegression(solver='lbfgs')\n",
    "parameters = {\"C\":  [0.0000001,0.00001, 0.0001, 0.001, 0.1, 1, 10, 100],'class_weight':[None,'balanced']}\n",
    "fitmodel = GridSearchCV(clfl2, param_grid=parameters, cv=5, scoring=\"roc_auc\")\n",
    "fitmodel.fit(X_train, y_train)\n",
    "fitmodel.best_estimator_, fitmodel.best_params_, fitmodel.best_score_\n"
   ]
  },
  {
   "cell_type": "code",
   "execution_count": 282,
   "metadata": {},
   "outputs": [
    {
     "name": "stdout",
     "output_type": "stream",
     "text": [
      "0.6033848258101502\n"
     ]
    }
   ],
   "source": [
    "model=fitmodel.best_estimator_.fit(X_train, y_train)\n",
    "predict = model.predict_proba(X_test)\n",
    "roc = roc_auc_score(y_test, predict[:,1])\n",
    "print(roc)"
   ]
  },
  {
   "cell_type": "code",
   "execution_count": 295,
   "metadata": {},
   "outputs": [
    {
     "name": "stdout",
     "output_type": "stream",
     "text": [
      "{'n_estimators': 800}\n",
      "0.6305528736158974\n",
      "0.6291543936781612\n"
     ]
    }
   ],
   "source": [
    "# Random Forest Classifier\n",
    "\n",
    "params = {'n_estimators': [600,800,1000]}\n",
    "grid_search_RF = GridSearchCV(RandomForestClassifier(), param_grid=params,\n",
    "                                   scoring='roc_auc', cv=5, n_jobs=-1)\n",
    "grid_search_RF.fit(X_train, y_train)\n",
    "print(grid_search_RF.best_params_)\n",
    "print(grid_search_RF.best_score_)\n",
    "\n",
    "model_RF=grid_search_RF.best_estimator_.fit(X_train, y_train)\n",
    "predict_RF = model_RF.predict_proba(X_test)\n",
    "roc_RF = roc_auc_score(y_test, predict_RF[:,1])\n",
    "print(roc_RF)"
   ]
  },
  {
   "cell_type": "code",
   "execution_count": 296,
   "metadata": {},
   "outputs": [
    {
     "name": "stdout",
     "output_type": "stream",
     "text": [
      "Confusion matrix, without normalization\n",
      "[[   56  2018]\n",
      " [  157 11806]]\n"
     ]
    },
    {
     "data": {
      "image/png": "[encoded data removed]",
      "text/plain": [
       "<Figure size 648x504 with 2 Axes>"
      ]
     },
     "metadata": {
      "needs_background": "light"
     },
     "output_type": "display_data"
    }
   ],
   "source": [
    "nf_matrix= confusion_matrix(y_test, model_RF.predict(X_test))\n",
    "class_names = ['Charged Off', \"Fully Paid\"]\n",
    "np.set_printoptions(precision=2)\n",
    "\n",
    "# Plot hold out set confusion matrix\n",
    "plt.figure(figsize = (9,7))\n",
    "plot_confusion_matrix(nf_matrix, classes=class_names, title='RF Confusion matrix ')"
   ]
  },
  {
   "cell_type": "code",
   "execution_count": 294,
   "metadata": {},
   "outputs": [
    {
     "name": "stdout",
     "output_type": "stream",
     "text": [
      "{'n_components': 1}\n",
      "0.6748973164731733\n",
      "0.6751030640843662\n"
     ]
    }
   ],
   "source": [
    "# Linear discriminant analysis\n",
    "\n",
    "p = {'n_components': [1,2,3] }\n",
    "grid_search_LDA = GridSearchCV(LinearDiscriminantAnalysis(), param_grid=p,\n",
    "                                   scoring='roc_auc', cv=5, n_jobs=-1)\n",
    "grid_search_LDA.fit(X_train, y_train)\n",
    "print(grid_search_LDA.best_params_)\n",
    "print(grid_search_LDA.best_score_)\n",
    "model_LDA=grid_search_LDA.best_estimator_.fit(X_train, y_train)\n",
    "predict_LDA = model_LDA.predict_proba(X_test)\n",
    "roc_LDA = roc_auc_score(y_test, predict_LDA[:,1])\n",
    "print(roc_LDA)"
   ]
  },
  {
   "cell_type": "code",
   "execution_count": 290,
   "metadata": {},
   "outputs": [
    {
     "name": "stdout",
     "output_type": "stream",
     "text": [
      "Confusion matrix, without normalization\n",
      "[[   28  2046]\n",
      " [   61 11902]]\n"
     ]
    },
    {
     "data": {
      "image/png": "[encoded data removed]",
      "text/plain": [
       "<Figure size 648x504 with 2 Axes>"
      ]
     },
     "metadata": {
      "needs_background": "light"
     },
     "output_type": "display_data"
    }
   ],
   "source": [
    "cf_matrix= confusion_matrix(y_test, model_LDA.predict(X_test))\n",
    "class_names = ['Charged Off', \"Fully Paid\"]\n",
    "np.set_printoptions(precision=2)\n",
    "\n",
    "# Plot hold out set confusion matrix\n",
    "plt.figure(figsize = (9,7))\n",
    "plot_confusion_matrix(cf_matrix, classes=class_names, title='LDA Confusion matrix ')"
   ]
  },
  {
   "cell_type": "code",
   "execution_count": 324,
   "metadata": {},
   "outputs": [
    {
     "data": {
      "text/plain": [
       "array([[ 8.44e-06, -1.06e-02,  6.25e-02, -8.28e-02, -2.22e-01, -4.20e-01,\n",
       "        -6.22e-01, -8.25e-01, -1.05e+00, -1.36e+00,  7.98e-01,  6.72e-01,\n",
       "         9.13e-01,  7.32e-01,  8.70e-01,  7.49e-01,  7.69e-01,  7.03e-01,\n",
       "         7.46e-01,  9.02e-01,  8.08e-01,  4.73e-01, -2.51e-01, -3.36e-03,\n",
       "        -6.23e-02,  1.07e-01, -1.66e-01, -8.27e-01, -1.49e-01, -4.73e-01,\n",
       "         4.62e-02, -4.32e-01, -2.50e-01, -2.96e-01, -5.70e-01, -1.11e+00,\n",
       "        -2.99e-01,  4.03e-02]])"
      ]
     },
     "execution_count": 324,
     "metadata": {},
     "output_type": "execute_result"
    }
   ],
   "source": [
    "model_LDA.coef_\n",
    "\n"
   ]
  },
  {
   "cell_type": "code",
   "execution_count": 317,
   "metadata": {},
   "outputs": [
    {
     "data": {
      "text/plain": [
       "38"
      ]
     },
     "execution_count": 317,
     "metadata": {},
     "output_type": "execute_result"
    }
   ],
   "source": [
    "X.columns\n",
    "len(X.columns)\n"
   ]
  },
  {
   "cell_type": "code",
   "execution_count": 326,
   "metadata": {},
   "outputs": [
    {
     "data": {
      "text/plain": [
       "{'funded_amnt': 8.4394496673895e-06,\n",
       " 'dti': -0.010561491998644486,\n",
       " 'delinq_2yrs': 0.06253595005605912,\n",
       " 'int_rate_new': -0.08279106176673089,\n",
       " 'grade_B': -0.22243255438914414,\n",
       " 'grade_C': -0.420018351364107,\n",
       " 'grade_D': -0.6222771522317208,\n",
       " 'grade_E': -0.8253114747327077,\n",
       " 'grade_F': -1.0544514023846743,\n",
       " 'grade_G': -1.3602033567192855,\n",
       " 'emp_length_1 year': 0.7976107080280654,\n",
       " 'emp_length_10+ years': 0.6723995453494784,\n",
       " 'emp_length_2 years': 0.9134305496965776,\n",
       " 'emp_length_3 years': 0.7324268006344278,\n",
       " 'emp_length_4 years': 0.8703385869624242,\n",
       " 'emp_length_5 years': 0.7487595772001371,\n",
       " 'emp_length_6 years': 0.7692903272904142,\n",
       " 'emp_length_7 years': 0.7030437018407067,\n",
       " 'emp_length_8 years': 0.7459496919864728,\n",
       " 'emp_length_9 years': 0.9021139772686582,\n",
       " 'emp_length_< 1 year': 0.8081057279843351,\n",
       " 'home_ownership_NONE': 0.4727771600998133,\n",
       " 'home_ownership_OTHER': -0.25105469143040016,\n",
       " 'home_ownership_OWN': -0.003357897214388583,\n",
       " 'home_ownership_RENT': -0.0623284996587742,\n",
       " 'purpose_credit_card': 0.10719484097736637,\n",
       " 'purpose_debt_consolidation': -0.165762198236153,\n",
       " 'purpose_educational': -0.8271984078501156,\n",
       " 'purpose_home_improvement': -0.14883480033591623,\n",
       " 'purpose_house': -0.47339314204417626,\n",
       " 'purpose_major_purchase': 0.04622414906677444,\n",
       " 'purpose_medical': -0.43151791508273546,\n",
       " 'purpose_moving': -0.2503855655285605,\n",
       " 'purpose_other': -0.2962446781161318,\n",
       " 'purpose_renewable_energy': -0.5697140026742354,\n",
       " 'purpose_small_business': -1.111375975196499,\n",
       " 'purpose_vacation': -0.2993437595232536,\n",
       " 'purpose_wedding': 0.040267708966900545}"
      ]
     },
     "execution_count": 326,
     "metadata": {},
     "output_type": "execute_result"
    }
   ],
   "source": [
    "coef={}\n",
    "for i in range(38):\n",
    "    coef[X.columns[i]]=model_LDA.coef_[0,i]\n",
    "coef    "
   ]
  },
  {
   "cell_type": "markdown",
   "metadata": {},
   "source": [
    "It appears that LDA is providing the best result for the test set. LDA tries to identify attributes that account for the most variance between classes. "
   ]
  },
  {
   "cell_type": "code",
   "execution_count": 293,
   "metadata": {},
   "outputs": [
    {
     "name": "stdout",
     "output_type": "stream",
     "text": [
      "{'alpha': 0}\n",
      "0.613376692131501\n",
      "0.6129973961018186\n"
     ]
    },
    {
     "name": "stderr",
     "output_type": "stream",
     "text": [
      "/Users/jtian/anaconda3/lib/python3.7/site-packages/sklearn/naive_bayes.py:480: UserWarning: alpha too small will result in numeric errors, setting alpha = 1.0e-10\n",
      "  'setting alpha = %.1e' % _ALPHA_MIN)\n",
      "/Users/jtian/anaconda3/lib/python3.7/site-packages/sklearn/naive_bayes.py:480: UserWarning: alpha too small will result in numeric errors, setting alpha = 1.0e-10\n",
      "  'setting alpha = %.1e' % _ALPHA_MIN)\n"
     ]
    }
   ],
   "source": [
    "# Multinomial NB \n",
    "\n",
    "pa = {'alpha':[0,0.1,1]}\n",
    "grid_search_NB = GridSearchCV(MultinomialNB(), param_grid=pa,\n",
    "                                   scoring='roc_auc', cv=5, n_jobs=-1)\n",
    "grid_search_NB.fit(X_train, y_train)\n",
    "print(grid_search_NB.best_params_)\n",
    "print(grid_search_NB.best_score_)\n",
    "\n",
    "model_NB=grid_search_NB.best_estimator_.fit(X_train, y_train)\n",
    "predict_NB = model_NB.predict_proba(X_test)\n",
    "roc_NB = roc_auc_score(y_test, predict_NB[:,1])\n",
    "print(roc_NB)"
   ]
  },
  {
   "cell_type": "code",
   "execution_count": 292,
   "metadata": {},
   "outputs": [
    {
     "name": "stdout",
     "output_type": "stream",
     "text": [
      "Confusion matrix, without normalization\n",
      "[[   78  1996]\n",
      " [  157 11806]]\n"
     ]
    },
    {
     "data": {
      "image/png": "[encoded data removed]",
      "text/plain": [
       "<Figure size 648x504 with 2 Axes>"
      ]
     },
     "metadata": {
      "needs_background": "light"
     },
     "output_type": "display_data"
    }
   ],
   "source": [
    "cn_matrix= confusion_matrix(y_test, model_NB.predict(X_test))\n",
    "class_names = ['Charged Off', \"Fully Paid\"]\n",
    "np.set_printoptions(precision=2)\n",
    "\n",
    "# Plot hold out set confusion matrix\n",
    "plt.figure(figsize = (9,7))\n",
    "plot_confusion_matrix(cn_matrix, classes=class_names, title='Multinomial NB Confusion matrix ')"
   ]
  },
  {
   "cell_type": "code",
   "execution_count": null,
   "metadata": {},
   "outputs": [],
   "source": []
  }
 ],
 "metadata": {
  "kernelspec": {
   "display_name": "Python 3",
   "language": "python",
   "name": "python3"
  },
  "language_info": {
   "codemirror_mode": {
    "name": "ipython",
    "version": 3
   },
   "file_extension": ".py",
   "mimetype": "text/x-python",
   "name": "python",
   "nbconvert_exporter": "python",
   "pygments_lexer": "ipython3",
   "version": "3.7.1"
  }
 },
 "nbformat": 4,
 "nbformat_minor": 2
}
