{
 "cells": [
  {
   "cell_type": "code",
   "execution_count": 2,
   "metadata": {},
   "outputs": [],
   "source": [
    "import cv2\n",
    "import numpy as np\n",
    "import imageio\n",
    "import os\n",
    "import pandas as pd"
   ]
  },
  {
   "cell_type": "code",
   "execution_count": 9,
   "metadata": {},
   "outputs": [
    {
     "name": "stdout",
     "output_type": "stream",
     "text": [
      "(129, 4)\n",
      "(129,)\n",
      "(100,)\n",
      "(200, 200)\n"
     ]
    }
   ],
   "source": [
    "# loading saved cropped cavity images\n",
    "\n",
    "unpickled_df = pd.read_pickle(\"./cropped_cavity.pkl\")\n",
    "print(unpickled_df.shape)\n",
    "X_train_cavity_pickle_129=unpickled_df['image_crop'].values\n",
    "print(X_train_cavity_pickle_129.shape)\n",
    "X_train_cavity_pickle=X_train_cavity_pickle_129[:100]\n",
    "print(X_train_cavity_pickle.shape)\n",
    "Y_train_cavity_pickle_129=unpickled_df['caries'].values\n",
    "Y_train_cavity_pickle=Y_train_cavity_pickle_129[:100]\n",
    "print(X_train_cavity_pickle[1].shape)"
   ]
  },
  {
   "cell_type": "code",
   "execution_count": 10,
   "metadata": {},
   "outputs": [
    {
     "name": "stdout",
     "output_type": "stream",
     "text": [
      "(100, 4)\n",
      "(200, 200)\n"
     ]
    }
   ],
   "source": [
    "# loaking saved cropped non-cavity images\n",
    "\n",
    "unpickled_nc_df = pd.read_pickle(\"./cropped_no_cavity.pkl\")\n",
    "print(unpickled_nc_df.shape)\n",
    "X_train_no_cavity_pickle=unpickled_nc_df['image_crop'].values\n",
    "Y_train_no_cavity_pickle=unpickled_nc_df['caries'].values\n",
    "print(X_train_no_cavity_pickle[1].shape)"
   ]
  },
  {
   "cell_type": "code",
   "execution_count": 11,
   "metadata": {},
   "outputs": [
    {
     "name": "stdout",
     "output_type": "stream",
     "text": [
      "(200, 200, 200)\n",
      "(200,)\n"
     ]
    }
   ],
   "source": [
    "# combine cavity and non-cavity \n",
    "\n",
    "X_train=np.concatenate([np.stack(X_train_cavity_pickle),np.stack(X_train_no_cavity_pickle)])\n",
    "Y_train=np.concatenate([np.stack(Y_train_cavity_pickle),np.stack(Y_train_no_cavity_pickle)])\n",
    "print(X_train.shape)\n",
    "print(Y_train.shape)"
   ]
  },
  {
   "cell_type": "code",
   "execution_count": 12,
   "metadata": {},
   "outputs": [],
   "source": [
    "# reshape X_train\n",
    "\n",
    "\n",
    "X_train = X_train.reshape(X_train.shape[0], 1, 200, 200)"
   ]
  },
  {
   "cell_type": "code",
   "execution_count": 13,
   "metadata": {},
   "outputs": [
    {
     "name": "stderr",
     "output_type": "stream",
     "text": [
      "Using Theano backend.\n"
     ]
    }
   ],
   "source": [
    "# put Y_train into 2 categories \n",
    "\n",
    "from keras.utils import to_categorical\n",
    "\n",
    "Y_train = to_categorical(Y_train, 2)\n"
   ]
  },
  {
   "cell_type": "code",
   "execution_count": 14,
   "metadata": {},
   "outputs": [
    {
     "name": "stdout",
     "output_type": "stream",
     "text": [
      "[0. 1.]\n",
      "(200, 2)\n"
     ]
    }
   ],
   "source": [
    "print(Y_train[1])\n",
    "print(Y_train.shape)"
   ]
  },
  {
   "cell_type": "code",
   "execution_count": 15,
   "metadata": {},
   "outputs": [],
   "source": [
    "\n",
    "X_train = X_train.astype('float32')"
   ]
  },
  {
   "cell_type": "code",
   "execution_count": 16,
   "metadata": {},
   "outputs": [],
   "source": [
    "X_train /= 255"
   ]
  },
  {
   "cell_type": "code",
   "execution_count": 17,
   "metadata": {},
   "outputs": [],
   "source": [
    "np.save(\"./X_train.npy\", X_train)\n",
    "np.save(\"./Y_train.npy\", Y_train)"
   ]
  },
  {
   "cell_type": "code",
   "execution_count": 18,
   "metadata": {},
   "outputs": [
    {
     "data": {
      "text/plain": [
       "(200, 1, 200, 200)"
      ]
     },
     "execution_count": 18,
     "metadata": {},
     "output_type": "execute_result"
    }
   ],
   "source": [
    "np.load(\"./X_train.npy\").shape"
   ]
  },
  {
   "cell_type": "code",
   "execution_count": null,
   "metadata": {},
   "outputs": [],
   "source": []
  },
  {
   "cell_type": "code",
   "execution_count": null,
   "metadata": {},
   "outputs": [],
   "source": []
  },
  {
   "cell_type": "code",
   "execution_count": null,
   "metadata": {},
   "outputs": [],
   "source": []
  },
  {
   "cell_type": "code",
   "execution_count": null,
   "metadata": {},
   "outputs": [],
   "source": []
  },
  {
   "cell_type": "code",
   "execution_count": null,
   "metadata": {},
   "outputs": [],
   "source": []
  },
  {
   "cell_type": "code",
   "execution_count": null,
   "metadata": {},
   "outputs": [],
   "source": []
  },
  {
   "cell_type": "code",
   "execution_count": 104,
   "metadata": {},
   "outputs": [
    {
     "name": "stdout",
     "output_type": "stream",
     "text": [
      "(49, 4)\n",
      "(200, 200)\n"
     ]
    }
   ],
   "source": [
    "# loading saved cropped cavity images for test set\n",
    "\n",
    "unpickled_df_test = pd.read_pickle(\"./test_cavity.pkl\")\n",
    "print(unpickled_df_test.shape)\n",
    "X_test_cavity_pickle=unpickled_df_test['image_crop'].values\n",
    "Y_test_cavity_pickle=unpickled_df_test['caries'].values\n",
    "print(X_test_cavity_pickle[1].shape)"
   ]
  },
  {
   "cell_type": "code",
   "execution_count": 105,
   "metadata": {},
   "outputs": [
    {
     "name": "stdout",
     "output_type": "stream",
     "text": [
      "(51, 4)\n",
      "(200, 200)\n"
     ]
    }
   ],
   "source": [
    "# loaking saved cropped non-cavity images\n",
    "\n",
    "unpickled_nc_df_test = pd.read_pickle(\"./test_no_cavity.pkl\")\n",
    "\n",
    "print(unpickled_nc_df_test.shape)\n",
    "X_test_no_cavity_pickle=unpickled_nc_df_test['image_crop'].values\n",
    "Y_test_no_cavity_pickle=unpickled_nc_df_test['caries'].values\n",
    "print(X_test_no_cavity_pickle[1].shape)\n"
   ]
  },
  {
   "cell_type": "code",
   "execution_count": 103,
   "metadata": {},
   "outputs": [],
   "source": [
    "#unpickled_nc_df_test['caries']=0\n",
    "#print(unpickled_nc_df_test.head)\n"
   ]
  },
  {
   "cell_type": "code",
   "execution_count": 100,
   "metadata": {},
   "outputs": [],
   "source": [
    "#unpickled_nc_df_test.to_pickle(\"./test_no_cavity.pkl\")"
   ]
  },
  {
   "cell_type": "code",
   "execution_count": null,
   "metadata": {},
   "outputs": [],
   "source": []
  },
  {
   "cell_type": "code",
   "execution_count": 106,
   "metadata": {},
   "outputs": [],
   "source": [
    "X_cav_test=np.stack(X_test_cavity_pickle)\n",
    "X_nc_test=np.stack(X_test_no_cavity_pickle)"
   ]
  },
  {
   "cell_type": "code",
   "execution_count": 107,
   "metadata": {},
   "outputs": [
    {
     "name": "stdout",
     "output_type": "stream",
     "text": [
      "(100, 200, 200)\n",
      "(100,)\n"
     ]
    }
   ],
   "source": [
    "# combine cavity and non-cavity \n",
    "\n",
    "X_test=np.concatenate([np.stack(X_test_cavity_pickle),np.stack(X_test_no_cavity_pickle)])\n",
    "Y_test=np.concatenate([np.stack(Y_test_cavity_pickle),np.stack(Y_test_no_cavity_pickle)])\n",
    "print(X_test.shape)\n",
    "print(Y_test.shape)"
   ]
  },
  {
   "cell_type": "code",
   "execution_count": 108,
   "metadata": {},
   "outputs": [],
   "source": [
    "# reshape X_test\n",
    "\n",
    "\n",
    "X_test = X_test.reshape(X_test.shape[0], 1, 200, 200)"
   ]
  },
  {
   "cell_type": "code",
   "execution_count": 109,
   "metadata": {},
   "outputs": [],
   "source": [
    "\n",
    "X_test = X_test.astype('float32')\n",
    "X_test /= 255"
   ]
  },
  {
   "cell_type": "code",
   "execution_count": 110,
   "metadata": {},
   "outputs": [],
   "source": [
    "# put Y_train into 2 categories \n",
    "\n",
    "from keras.utils import to_categorical\n",
    "\n",
    "Y_test = to_categorical(Y_test, 2)\n"
   ]
  },
  {
   "cell_type": "code",
   "execution_count": 111,
   "metadata": {},
   "outputs": [
    {
     "name": "stdout",
     "output_type": "stream",
     "text": [
      "[0. 1.]\n",
      "(100, 2)\n"
     ]
    }
   ],
   "source": [
    "print(Y_test[1])\n",
    "print(Y_test.shape)"
   ]
  },
  {
   "cell_type": "code",
   "execution_count": 112,
   "metadata": {},
   "outputs": [],
   "source": [
    "np.save(\"./X_test.npy\", X_test)\n",
    "np.save(\"./Y_test.npy\", Y_test)"
   ]
  },
  {
   "cell_type": "code",
   "execution_count": null,
   "metadata": {},
   "outputs": [],
   "source": []
  },
  {
   "cell_type": "code",
   "execution_count": null,
   "metadata": {},
   "outputs": [],
   "source": []
  },
  {
   "cell_type": "code",
   "execution_count": null,
   "metadata": {},
   "outputs": [],
   "source": []
  },
  {
   "cell_type": "code",
   "execution_count": null,
   "metadata": {},
   "outputs": [],
   "source": []
  }
 ],
 "metadata": {
  "kernelspec": {
   "display_name": "Python 3",
   "language": "python",
   "name": "python3"
  },
  "language_info": {
   "codemirror_mode": {
    "name": "ipython",
    "version": 3
   },
   "file_extension": ".py",
   "mimetype": "text/x-python",
   "name": "python",
   "nbconvert_exporter": "python",
   "pygments_lexer": "ipython3",
   "version": "3.7.1"
  }
 },
 "nbformat": 4,
 "nbformat_minor": 2
}
