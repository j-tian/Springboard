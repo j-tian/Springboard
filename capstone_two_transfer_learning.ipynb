{
 "cells": [
  {
   "cell_type": "code",
   "execution_count": 27,
   "metadata": {},
   "outputs": [],
   "source": [
    "from keras.applications.resnet50 import ResNet50, preprocess_input\n",
    "\n",
    "HEIGHT = 200\n",
    "WIDTH = 200\n",
    "\n",
    "base_model = ResNet50(weights='imagenet', \n",
    "                      include_top=False, \n",
    "                      input_shape=(HEIGHT, WIDTH,3))\n"
   ]
  },
  {
   "cell_type": "code",
   "execution_count": 18,
   "metadata": {},
   "outputs": [],
   "source": [
    "from keras.layers import Dense, Activation, Flatten, Dropout\n",
    "from keras.models import Sequential, Model\n",
    "\n",
    "def build_finetune_model(base_model, dropout, fc_layers, num_classes):\n",
    "    for layer in base_model.layers:\n",
    "        layer.trainable = False\n",
    "\n",
    "    x = base_model.output\n",
    "    x = Flatten()(x)\n",
    "    for fc in fc_layers:\n",
    "        # New FC layer, random init\n",
    "        x = Dense(fc, activation='relu')(x) \n",
    "        x = Dropout(dropout)(x)\n",
    "\n",
    "    # New softmax layer\n",
    "    predictions = Dense(num_classes, activation='softmax')(x) \n",
    "    \n",
    "    finetune_model = Model(inputs=base_model.input, outputs=predictions)\n",
    "\n",
    "    return finetune_model\n"
   ]
  },
  {
   "cell_type": "code",
   "execution_count": 51,
   "metadata": {},
   "outputs": [],
   "source": [
    "class_list = [\"0\", \"1\"]\n",
    "FC_LAYERS = [1024, 1024]\n",
    "dropout = 0.5\n",
    "\n",
    "finetune_model = build_finetune_model(base_model, \n",
    "                                      dropout=dropout, \n",
    "                                      fc_layers=FC_LAYERS, \n",
    "                                      num_classes=len(class_list))\n"
   ]
  },
  {
   "cell_type": "code",
   "execution_count": 23,
   "metadata": {},
   "outputs": [
    {
     "name": "stdout",
     "output_type": "stream",
     "text": [
      "(229, 1, 200, 200)\n"
     ]
    }
   ],
   "source": [
    "import numpy as np\n",
    "X_train=np.load(\"./X_train.npy\")\n",
    "Y_train=np.load(\"./Y_train.npy\")\n",
    "print(X_train.shape)"
   ]
  },
  {
   "cell_type": "code",
   "execution_count": 29,
   "metadata": {},
   "outputs": [],
   "source": [
    "X=X_train[:,0,:,:]\n"
   ]
  },
  {
   "cell_type": "code",
   "execution_count": 32,
   "metadata": {},
   "outputs": [
    {
     "name": "stdout",
     "output_type": "stream",
     "text": [
      "(229, 200, 200, 3)\n"
     ]
    }
   ],
   "source": [
    "rgb_batch = np.repeat(X[..., np.newaxis], 3, -1)\n",
    "print(rgb_batch.shape)"
   ]
  },
  {
   "cell_type": "code",
   "execution_count": 45,
   "metadata": {},
   "outputs": [],
   "source": [
    "\n",
    "from keras.optimizers import SGD, Adam\n",
    "sgd = SGD(lr=0.01, decay=1e-6, momentum=0.9, nesterov=True)\n",
    "finetune_model.compile(loss='categorical_crossentropy', optimizer=sgd, metrics=['accuracy'])"
   ]
  },
  {
   "cell_type": "code",
   "execution_count": 46,
   "metadata": {},
   "outputs": [
    {
     "name": "stdout",
     "output_type": "stream",
     "text": [
      "Epoch 1/10\n",
      "229/229 [==============================] - 100s 435ms/step - loss: 9.0796 - acc: 0.4367\n",
      "Epoch 2/10\n",
      "229/229 [==============================] - 98s 428ms/step - loss: 9.0796 - acc: 0.4367\n",
      "Epoch 3/10\n",
      "229/229 [==============================] - 97s 425ms/step - loss: 9.0796 - acc: 0.4367\n",
      "Epoch 4/10\n",
      "229/229 [==============================] - 98s 427ms/step - loss: 9.0796 - acc: 0.4367\n",
      "Epoch 5/10\n",
      "229/229 [==============================] - 99s 434ms/step - loss: 9.0796 - acc: 0.4367\n",
      "Epoch 6/10\n",
      "229/229 [==============================] - 100s 438ms/step - loss: 9.0796 - acc: 0.4367\n",
      "Epoch 7/10\n",
      "229/229 [==============================] - 100s 437ms/step - loss: 9.0796 - acc: 0.4367\n",
      "Epoch 8/10\n",
      "229/229 [==============================] - 100s 436ms/step - loss: 9.0796 - acc: 0.4367\n",
      "Epoch 9/10\n",
      "229/229 [==============================] - 100s 437ms/step - loss: 9.0796 - acc: 0.4367\n",
      "Epoch 10/10\n",
      "229/229 [==============================] - 100s 437ms/step - loss: 9.0796 - acc: 0.4367\n"
     ]
    },
    {
     "data": {
      "text/plain": [
       "<keras.callbacks.History at 0x1c29a31f28>"
      ]
     },
     "execution_count": 46,
     "metadata": {},
     "output_type": "execute_result"
    }
   ],
   "source": [
    "finetune_model.fit(rgb_batch, Y_train, batch_size=32, epochs=10, verbose=1)"
   ]
  },
  {
   "cell_type": "code",
   "execution_count": 37,
   "metadata": {},
   "outputs": [
    {
     "name": "stdout",
     "output_type": "stream",
     "text": [
      "(100, 1, 200, 200)\n"
     ]
    }
   ],
   "source": [
    "X_test=np.load(\"./X_test.npy\")\n",
    "Y_test=np.load(\"./Y_test.npy\")\n",
    "print(X_test.shape)"
   ]
  },
  {
   "cell_type": "code",
   "execution_count": 41,
   "metadata": {},
   "outputs": [
    {
     "name": "stdout",
     "output_type": "stream",
     "text": [
      "(100, 200, 200, 3)\n"
     ]
    }
   ],
   "source": [
    "Xtest=X_test[:,0,:,:]\n",
    "Xtest_new = np.repeat(Xtest[..., np.newaxis], 3, -1)\n",
    "print(Xtest_new.shape)\n"
   ]
  },
  {
   "cell_type": "code",
   "execution_count": 47,
   "metadata": {},
   "outputs": [],
   "source": [
    "score = finetune_model.evaluate(Xtest_new, Y_test, verbose=0)\n"
   ]
  },
  {
   "cell_type": "code",
   "execution_count": 48,
   "metadata": {},
   "outputs": [
    {
     "name": "stdout",
     "output_type": "stream",
     "text": [
      "[7.897866864204406, 0.51]\n"
     ]
    }
   ],
   "source": [
    "print(score)\n"
   ]
  },
  {
   "cell_type": "code",
   "execution_count": 52,
   "metadata": {},
   "outputs": [],
   "source": [
    "adam = Adam(lr=0.00001)\n",
    "finetune_model.compile(adam, loss='categorical_crossentropy', metrics=['accuracy'])\n"
   ]
  },
  {
   "cell_type": "code",
   "execution_count": 53,
   "metadata": {},
   "outputs": [
    {
     "name": "stdout",
     "output_type": "stream",
     "text": [
      "Epoch 1/10\n",
      "229/229 [==============================] - 104s 455ms/step - loss: 1.5548 - acc: 0.4585\n",
      "Epoch 2/10\n",
      "229/229 [==============================] - 104s 455ms/step - loss: 0.9909 - acc: 0.6638\n",
      "Epoch 3/10\n",
      "229/229 [==============================] - 105s 461ms/step - loss: 0.8701 - acc: 0.6987\n",
      "Epoch 4/10\n",
      "229/229 [==============================] - 103s 451ms/step - loss: 0.5102 - acc: 0.8166\n",
      "Epoch 5/10\n",
      "229/229 [==============================] - 104s 453ms/step - loss: 0.4087 - acc: 0.8472\n",
      "Epoch 6/10\n",
      "229/229 [==============================] - 104s 453ms/step - loss: 0.3365 - acc: 0.8821\n",
      "Epoch 7/10\n",
      "229/229 [==============================] - 104s 453ms/step - loss: 0.3242 - acc: 0.8908\n",
      "Epoch 8/10\n",
      "229/229 [==============================] - 104s 456ms/step - loss: 0.2929 - acc: 0.9083\n",
      "Epoch 9/10\n",
      "229/229 [==============================] - 104s 453ms/step - loss: 0.1475 - acc: 0.9345\n",
      "Epoch 10/10\n",
      "229/229 [==============================] - 103s 450ms/step - loss: 0.1470 - acc: 0.9345\n"
     ]
    },
    {
     "data": {
      "text/plain": [
       "<keras.callbacks.History at 0x1c431f7c18>"
      ]
     },
     "execution_count": 53,
     "metadata": {},
     "output_type": "execute_result"
    }
   ],
   "source": [
    "\n",
    "finetune_model.fit(rgb_batch, Y_train, batch_size=32, epochs=10, verbose=1)\n"
   ]
  },
  {
   "cell_type": "code",
   "execution_count": 54,
   "metadata": {},
   "outputs": [
    {
     "name": "stdout",
     "output_type": "stream",
     "text": [
      "[0.8435791015625, 0.49]\n"
     ]
    }
   ],
   "source": [
    "score2 = finetune_model.evaluate(Xtest_new, Y_test, verbose=0)\n",
    "print(score2)\n"
   ]
  },
  {
   "cell_type": "code",
   "execution_count": 56,
   "metadata": {},
   "outputs": [],
   "source": [
    "from keras.preprocessing.image import ImageDataGenerator\n",
    "\n",
    "aug = ImageDataGenerator(rotation_range=20, zoom_range=0.15, width_shift_range=0.2, height_shift_range=0.2, shear_range=0.15, horizontal_flip=True, fill_mode=\"nearest\")"
   ]
  },
  {
   "cell_type": "code",
   "execution_count": 61,
   "metadata": {},
   "outputs": [
    {
     "name": "stdout",
     "output_type": "stream",
     "text": [
      "Epoch 1/10\n",
      "6/6 [==============================] - 91s 15s/step - loss: 1.3743 - acc: 0.6356 - val_loss: 1.4644 - val_acc: 0.0000e+00\n",
      "Epoch 2/10\n",
      "6/6 [==============================] - 96s 16s/step - loss: 0.9927 - acc: 0.6875 - val_loss: 1.2469 - val_acc: 0.0000e+00\n",
      "Epoch 3/10\n",
      "6/6 [==============================] - 84s 14s/step - loss: 1.0592 - acc: 0.6516 - val_loss: 1.3223 - val_acc: 0.0000e+00\n",
      "Epoch 4/10\n",
      "6/6 [==============================] - 74s 12s/step - loss: 1.0025 - acc: 0.5843 - val_loss: 1.4588 - val_acc: 0.0000e+00\n",
      "Epoch 5/10\n",
      "6/6 [==============================] - 95s 16s/step - loss: 0.9484 - acc: 0.6458 - val_loss: 1.3889 - val_acc: 0.0000e+00\n",
      "Epoch 6/10\n",
      "6/6 [==============================] - 83s 14s/step - loss: 1.0717 - acc: 0.6035 - val_loss: 1.2772 - val_acc: 0.0000e+00\n",
      "Epoch 7/10\n",
      "6/6 [==============================] - 82s 14s/step - loss: 1.1259 - acc: 0.6409 - val_loss: 1.2277 - val_acc: 0.0000e+00\n",
      "Epoch 8/10\n",
      "6/6 [==============================] - 82s 14s/step - loss: 1.0376 - acc: 0.6063 - val_loss: 1.3490 - val_acc: 0.0000e+00\n",
      "Epoch 9/10\n",
      "6/6 [==============================] - 82s 14s/step - loss: 0.7471 - acc: 0.7128 - val_loss: 1.3051 - val_acc: 0.0000e+00\n",
      "Epoch 10/10\n",
      "6/6 [==============================] - 82s 14s/step - loss: 0.8657 - acc: 0.7183 - val_loss: 1.2191 - val_acc: 0.0000e+00\n"
     ]
    }
   ],
   "source": [
    "EPOCHS = 10\n",
    "BS = 32\n",
    "H = finetune_model.fit_generator(aug.flow(rgb_batch[:200], Y_train[:200], batch_size=BS),\n",
    "                                 validation_data=(rgb_batch[200:], Y_train[200:]), \n",
    "                                 steps_per_epoch=len(rgb_batch[:200]) // BS,epochs=EPOCHS)"
   ]
  },
  {
   "cell_type": "code",
   "execution_count": null,
   "metadata": {},
   "outputs": [],
   "source": [
    "\n"
   ]
  }
 ],
 "metadata": {
  "kernelspec": {
   "display_name": "Python 3",
   "language": "python",
   "name": "python3"
  },
  "language_info": {
   "codemirror_mode": {
    "name": "ipython",
    "version": 3
   },
   "file_extension": ".py",
   "mimetype": "text/x-python",
   "name": "python",
   "nbconvert_exporter": "python",
   "pygments_lexer": "ipython3",
   "version": "3.7.1"
  }
 },
 "nbformat": 4,
 "nbformat_minor": 2
}
