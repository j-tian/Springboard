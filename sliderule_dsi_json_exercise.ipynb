{
 "cells": [
  {
   "cell_type": "markdown",
   "metadata": {},
   "source": [
    "# JSON examples and exercise\n",
    "****\n",
    "+ get familiar with packages for dealing with JSON\n",
    "+ study examples with JSON strings and files \n",
    "+ work on exercise to be completed and submitted \n",
    "****\n",
    "+ reference: http://pandas.pydata.org/pandas-docs/stable/io.html#io-json-reader\n",
    "+ data source: http://jsonstudio.com/resources/\n",
    "****"
   ]
  },
  {
   "cell_type": "code",
   "execution_count": 3,
   "metadata": {
    "collapsed": true
   },
   "outputs": [],
   "source": [
    "import pandas as pd"
   ]
  },
  {
   "cell_type": "markdown",
   "metadata": {},
   "source": [
    "## imports for Python, Pandas"
   ]
  },
  {
   "cell_type": "code",
   "execution_count": 6,
   "metadata": {
    "collapsed": true
   },
   "outputs": [],
   "source": [
    "import json\n",
    "from pandas.io.json import json_normalize"
   ]
  },
  {
   "cell_type": "markdown",
   "metadata": {},
   "source": [
    "## JSON example, with string\n",
    "\n",
    "+ demonstrates creation of normalized dataframes (tables) from nested json string\n",
    "+ source: http://pandas.pydata.org/pandas-docs/stable/io.html#normalization"
   ]
  },
  {
   "cell_type": "code",
   "execution_count": 4,
   "metadata": {
    "collapsed": true
   },
   "outputs": [],
   "source": [
    "# define json string\n",
    "data = [{'state': 'Florida', \n",
    "         'shortname': 'FL',\n",
    "         'info': {'governor': 'Rick Scott'},\n",
    "         'counties': [{'name': 'Dade', 'population': 12345},\n",
    "                      {'name': 'Broward', 'population': 40000},\n",
    "                      {'name': 'Palm Beach', 'population': 60000}]},\n",
    "        {'state': 'Ohio',\n",
    "         'shortname': 'OH',\n",
    "         'info': {'governor': 'John Kasich'},\n",
    "         'counties': [{'name': 'Summit', 'population': 1234},\n",
    "                      {'name': 'Cuyahoga', 'population': 1337}]}]"
   ]
  },
  {
   "cell_type": "code",
   "execution_count": 7,
   "metadata": {},
   "outputs": [
    {
     "data": {
      "text/html": [
       "<div style=\"max-height:1000px;max-width:1500px;overflow:auto;\">\n",
       "<table border=\"1\" class=\"dataframe\">\n",
       "  <thead>\n",
       "    <tr style=\"text-align: right;\">\n",
       "      <th></th>\n",
       "      <th>name</th>\n",
       "      <th>population</th>\n",
       "    </tr>\n",
       "  </thead>\n",
       "  <tbody>\n",
       "    <tr>\n",
       "      <th>0</th>\n",
       "      <td>Dade</td>\n",
       "      <td>12345</td>\n",
       "    </tr>\n",
       "    <tr>\n",
       "      <th>1</th>\n",
       "      <td>Broward</td>\n",
       "      <td>40000</td>\n",
       "    </tr>\n",
       "    <tr>\n",
       "      <th>2</th>\n",
       "      <td>Palm Beach</td>\n",
       "      <td>60000</td>\n",
       "    </tr>\n",
       "    <tr>\n",
       "      <th>3</th>\n",
       "      <td>Summit</td>\n",
       "      <td>1234</td>\n",
       "    </tr>\n",
       "    <tr>\n",
       "      <th>4</th>\n",
       "      <td>Cuyahoga</td>\n",
       "      <td>1337</td>\n",
       "    </tr>\n",
       "  </tbody>\n",
       "</table>\n",
       "</div>"
      ],
      "text/plain": [
       "         name  population\n",
       "0        Dade       12345\n",
       "1     Broward       40000\n",
       "2  Palm Beach       60000\n",
       "3      Summit        1234\n",
       "4    Cuyahoga        1337"
      ]
     },
     "execution_count": 7,
     "metadata": {},
     "output_type": "execute_result"
    }
   ],
   "source": [
    "# use normalization to create tables from nested element\n",
    "json_normalize(data, 'counties')"
   ]
  },
  {
   "cell_type": "code",
   "execution_count": 8,
   "metadata": {},
   "outputs": [
    {
     "data": {
      "text/html": [
       "<div style=\"max-height:1000px;max-width:1500px;overflow:auto;\">\n",
       "<table border=\"1\" class=\"dataframe\">\n",
       "  <thead>\n",
       "    <tr style=\"text-align: right;\">\n",
       "      <th></th>\n",
       "      <th>name</th>\n",
       "      <th>population</th>\n",
       "      <th>info.governor</th>\n",
       "      <th>state</th>\n",
       "      <th>shortname</th>\n",
       "    </tr>\n",
       "  </thead>\n",
       "  <tbody>\n",
       "    <tr>\n",
       "      <th>0</th>\n",
       "      <td>Dade</td>\n",
       "      <td>12345</td>\n",
       "      <td>Rick Scott</td>\n",
       "      <td>Florida</td>\n",
       "      <td>FL</td>\n",
       "    </tr>\n",
       "    <tr>\n",
       "      <th>1</th>\n",
       "      <td>Broward</td>\n",
       "      <td>40000</td>\n",
       "      <td>Rick Scott</td>\n",
       "      <td>Florida</td>\n",
       "      <td>FL</td>\n",
       "    </tr>\n",
       "    <tr>\n",
       "      <th>2</th>\n",
       "      <td>Palm Beach</td>\n",
       "      <td>60000</td>\n",
       "      <td>Rick Scott</td>\n",
       "      <td>Florida</td>\n",
       "      <td>FL</td>\n",
       "    </tr>\n",
       "    <tr>\n",
       "      <th>3</th>\n",
       "      <td>Summit</td>\n",
       "      <td>1234</td>\n",
       "      <td>John Kasich</td>\n",
       "      <td>Ohio</td>\n",
       "      <td>OH</td>\n",
       "    </tr>\n",
       "    <tr>\n",
       "      <th>4</th>\n",
       "      <td>Cuyahoga</td>\n",
       "      <td>1337</td>\n",
       "      <td>John Kasich</td>\n",
       "      <td>Ohio</td>\n",
       "      <td>OH</td>\n",
       "    </tr>\n",
       "  </tbody>\n",
       "</table>\n",
       "</div>"
      ],
      "text/plain": [
       "         name  population info.governor    state shortname\n",
       "0        Dade       12345    Rick Scott  Florida        FL\n",
       "1     Broward       40000    Rick Scott  Florida        FL\n",
       "2  Palm Beach       60000    Rick Scott  Florida        FL\n",
       "3      Summit        1234   John Kasich     Ohio        OH\n",
       "4    Cuyahoga        1337   John Kasich     Ohio        OH"
      ]
     },
     "execution_count": 8,
     "metadata": {},
     "output_type": "execute_result"
    }
   ],
   "source": [
    "# further populate tables created from nested element\n",
    "json_normalize(data, 'counties', ['state', 'shortname', ['info', 'governor']])"
   ]
  },
  {
   "cell_type": "markdown",
   "metadata": {},
   "source": [
    "****\n",
    "## JSON example, with file\n",
    "\n",
    "+ demonstrates reading in a json file as a string and as a table\n",
    "+ uses small sample file containing data about projects funded by the World Bank \n",
    "+ data source: http://jsonstudio.com/resources/"
   ]
  },
  {
   "cell_type": "code",
   "execution_count": 2,
   "metadata": {},
   "outputs": [
    {
     "ename": "NameError",
     "evalue": "name 'json' is not defined",
     "output_type": "error",
     "traceback": [
      "\u001b[0;31m---------------------------------------------------------------------------\u001b[0m",
      "\u001b[0;31mNameError\u001b[0m                                 Traceback (most recent call last)",
      "\u001b[0;32m<ipython-input-2-721b6769f6f5>\u001b[0m in \u001b[0;36m<module>\u001b[0;34m()\u001b[0m\n\u001b[1;32m      1\u001b[0m \u001b[0;31m# load json as string\u001b[0m\u001b[0;34m\u001b[0m\u001b[0;34m\u001b[0m\u001b[0m\n\u001b[0;32m----> 2\u001b[0;31m \u001b[0mjson\u001b[0m\u001b[0;34m.\u001b[0m\u001b[0mload\u001b[0m\u001b[0;34m(\u001b[0m\u001b[0;34m(\u001b[0m\u001b[0mopen\u001b[0m\u001b[0;34m(\u001b[0m\u001b[0;34m'data/world_bank_projects_less.json'\u001b[0m\u001b[0;34m)\u001b[0m\u001b[0;34m)\u001b[0m\u001b[0;34m)\u001b[0m\u001b[0;34m\u001b[0m\u001b[0m\n\u001b[0m",
      "\u001b[0;31mNameError\u001b[0m: name 'json' is not defined"
     ]
    }
   ],
   "source": [
    "# load json as string\n",
    "#json.load((open('data/world_bank_projects_less.json')))"
   ]
  },
  {
   "cell_type": "code",
   "execution_count": 3,
   "metadata": {},
   "outputs": [
    {
     "ename": "NameError",
     "evalue": "name 'pd' is not defined",
     "output_type": "error",
     "traceback": [
      "\u001b[0;31m---------------------------------------------------------------------------\u001b[0m",
      "\u001b[0;31mNameError\u001b[0m                                 Traceback (most recent call last)",
      "\u001b[0;32m<ipython-input-3-49c5a1ea0dc1>\u001b[0m in \u001b[0;36m<module>\u001b[0;34m()\u001b[0m\n\u001b[1;32m      1\u001b[0m \u001b[0;31m# load as Pandas dataframe\u001b[0m\u001b[0;34m\u001b[0m\u001b[0;34m\u001b[0m\u001b[0m\n\u001b[0;32m----> 2\u001b[0;31m \u001b[0msample_json_df\u001b[0m \u001b[0;34m=\u001b[0m \u001b[0mpd\u001b[0m\u001b[0;34m.\u001b[0m\u001b[0mread_json\u001b[0m\u001b[0;34m(\u001b[0m\u001b[0;34m'data/world_bank_projects_less.json'\u001b[0m\u001b[0;34m)\u001b[0m\u001b[0;34m\u001b[0m\u001b[0m\n\u001b[0m\u001b[1;32m      3\u001b[0m \u001b[0;31m#sample_json_df\u001b[0m\u001b[0;34m\u001b[0m\u001b[0;34m\u001b[0m\u001b[0m\n",
      "\u001b[0;31mNameError\u001b[0m: name 'pd' is not defined"
     ]
    }
   ],
   "source": [
    "# load as Pandas dataframe\n",
    "sample_json_df = pd.read_json('data/world_bank_projects_less.json')\n",
    "#sample_json_df"
   ]
  },
  {
   "cell_type": "markdown",
   "metadata": {},
   "source": [
    "****\n",
    "## exercise\n",
    "\n",
    "Using data in file 'data/world_bank_projects.json' and the techniques demonstrated above,\n",
    "1. Find the 10 countries with most projects\n",
    "2. Find the top 10 major project themes (using column 'mjtheme_namecode')\n",
    "3. In 2. above you will notice that some entries have only the code and the name is missing. Create a dataframe with the missing names filled in."
   ]
  },
  {
   "cell_type": "code",
   "execution_count": 8,
   "metadata": {},
   "outputs": [],
   "source": [
    "import pandas as pd\n",
    "import json\n",
    "from pandas.io.json import json_normalize"
   ]
  },
  {
   "cell_type": "code",
   "execution_count": 9,
   "metadata": {},
   "outputs": [],
   "source": [
    "json.load((open('data/world_bank_projects.json')));"
   ]
  },
  {
   "cell_type": "code",
   "execution_count": 10,
   "metadata": {},
   "outputs": [],
   "source": [
    "df=pd.read_json('data/world_bank_projects.json')"
   ]
  },
  {
   "cell_type": "code",
   "execution_count": null,
   "metadata": {},
   "outputs": [],
   "source": []
  },
  {
   "cell_type": "code",
   "execution_count": 11,
   "metadata": {},
   "outputs": [],
   "source": [
    "df_projects=df.groupby('countryname').count().sort_values('_id', ascending=False)"
   ]
  },
  {
   "cell_type": "code",
   "execution_count": 12,
   "metadata": {},
   "outputs": [
    {
     "name": "stdout",
     "output_type": "stream",
     "text": [
      "countryname\n",
      "People's Republic of China         19\n",
      "Republic of Indonesia              19\n",
      "Socialist Republic of Vietnam      17\n",
      "Republic of India                  16\n",
      "Republic of Yemen                  13\n",
      "People's Republic of Bangladesh    12\n",
      "Nepal                              12\n",
      "Kingdom of Morocco                 12\n",
      "Republic of Mozambique             11\n",
      "Africa                             11\n",
      "Name: _id, dtype: int64\n"
     ]
    }
   ],
   "source": [
    "# 10 countries with most projects\n",
    "\n",
    "print(df_projects[:10]['_id'])"
   ]
  },
  {
   "cell_type": "code",
   "execution_count": 34,
   "metadata": {},
   "outputs": [],
   "source": [
    "# questions 2\n",
    "#df['mjtheme_namecode_str'] = df['mjtheme_namecode'].astype(str)\n",
    "#print(df.groupby(['mjtheme_namecode_str']).count().sort_values('_id', ascending=False)[:10]['_id'])\n"
   ]
  },
  {
   "cell_type": "code",
   "execution_count": 38,
   "metadata": {},
   "outputs": [
    {
     "data": {
      "text/plain": [
       "[('Environment and natural resources management', 250),\n",
       " ('Rural development', 216),\n",
       " ('Human development', 210),\n",
       " ('Public sector governance', 199),\n",
       " ('Social protection and risk management', 168),\n",
       " ('Financial and private sector development', 146),\n",
       " ('Social dev/gender/inclusion', 130),\n",
       " ('Trade and integration', 77),\n",
       " ('Urban development', 50),\n",
       " ('Economic management', 38),\n",
       " ('Rule of law', 15)]"
      ]
     },
     "execution_count": 38,
     "metadata": {},
     "output_type": "execute_result"
    }
   ],
   "source": [
    "# question 2: Find the top 10 major project themes (using column 'mjtheme_namecode')\n",
    "\n",
    "def sort_theme(projects):\n",
    "    codes=list()\n",
    "    \n",
    "    for row in projects:\n",
    "        #codes_row=list()\n",
    "        for index in range(len(row)):\n",
    "            item = row[index]\n",
    "            #if item['code'] not in codes_row:\n",
    "                #codes_row.append(item['code'])\n",
    "            codes.append(item['code'])\n",
    "    \n",
    "    codedic=list()\n",
    "\n",
    "\n",
    "    for row in projects:\n",
    "\n",
    "        for index in range(len(row)):\n",
    "            item = row[index]\n",
    "            if (item not in codedic) and (item['name'] is not ''):\n",
    "                codedic.append(item)\n",
    "            \n",
    "    newdict=dict()\n",
    "    dict1=dict()\n",
    "    \n",
    "    for i in range(len(codedic)):\n",
    "        newdict=dict()\n",
    "        newdict[codedic[i]['code']]=codedic[i]['name']\n",
    "        dict1.update(newdict)\n",
    "    \n",
    "    themes=dict()\n",
    "    \n",
    "    for j in range(1,12): \n",
    "        themes[dict1[str(j)]]=codes.count(str(j))\n",
    "        \n",
    "    import operator\n",
    "    themes_sorted=sorted(themes.items(), key=operator.itemgetter(1),reverse=True)\n",
    "    \n",
    "    return themes_sorted\n",
    "   \n",
    "    \n",
    "sort_theme(df['mjtheme_namecode'])"
   ]
  },
  {
   "cell_type": "code",
   "execution_count": null,
   "metadata": {},
   "outputs": [],
   "source": []
  },
  {
   "cell_type": "code",
   "execution_count": 39,
   "metadata": {
    "scrolled": true
   },
   "outputs": [
    {
     "name": "stdout",
     "output_type": "stream",
     "text": [
      "[{'code': '8', 'name': 'Human development'}, {'code': '1', 'name': 'Economic management'}, {'code': '6', 'name': 'Social protection and risk management'}, {'code': '5', 'name': 'Trade and integration'}, {'code': '2', 'name': 'Public sector governance'}, {'code': '11', 'name': 'Environment and natural resources management'}, {'code': '7', 'name': 'Social dev/gender/inclusion'}, {'code': '4', 'name': 'Financial and private sector development'}, {'code': '10', 'name': 'Rural development'}, {'code': '9', 'name': 'Urban development'}, {'code': '3', 'name': 'Rule of law'}]\n"
     ]
    }
   ],
   "source": [
    "# question 3:In 2. above you will notice that some entries have only the code and the name is missing. Create a dataframe with the missing names filled in.\n",
    "\n",
    "codedic=list()\n",
    "\n",
    "\n",
    "for row in df['mjtheme_namecode']:\n",
    "\n",
    "    for index in range(len(row)):\n",
    "        item = row[index]\n",
    "        \n",
    "        if (item not in codedic) and (item['name'] is not ''):\n",
    "            codedic.append(item)\n",
    "            \n",
    "\n",
    "print(codedic)\n"
   ]
  },
  {
   "cell_type": "code",
   "execution_count": 40,
   "metadata": {
    "scrolled": true
   },
   "outputs": [
    {
     "name": "stdout",
     "output_type": "stream",
     "text": [
      "{'8': 'Human development', '1': 'Economic management', '6': 'Social protection and risk management', '5': 'Trade and integration', '2': 'Public sector governance', '11': 'Environment and natural resources management', '7': 'Social dev/gender/inclusion', '4': 'Financial and private sector development', '10': 'Rural development', '9': 'Urban development', '3': 'Rule of law'}\n"
     ]
    }
   ],
   "source": [
    "newdict=dict()\n",
    "dict1=dict()\n",
    "for i in range(11):\n",
    "    newdict=dict()\n",
    "    newdict[codedic[i]['code']]=codedic[i]['name']\n",
    "    dict1.update(newdict)\n",
    "    \n",
    "\n",
    "print(dict1)\n",
    "\n"
   ]
  },
  {
   "cell_type": "code",
   "execution_count": 41,
   "metadata": {
    "scrolled": true
   },
   "outputs": [
    {
     "name": "stdout",
     "output_type": "stream",
     "text": [
      "0      [{'code': '8', 'name': 'Human development'}, {...\n",
      "1      [{'code': '1', 'name': 'Economic management'},...\n",
      "2      [{'code': '5', 'name': 'Trade and integration'...\n",
      "3      [{'code': '7', 'name': 'Social dev/gender/incl...\n",
      "4      [{'code': '5', 'name': 'Trade and integration'...\n",
      "5      [{'code': '6', 'name': 'Social protection and ...\n",
      "6      [{'code': '2', 'name': 'Public sector governan...\n",
      "7      [{'code': '11', 'name': 'Environment and natur...\n",
      "8      [{'code': '10', 'name': 'Rural development'}, ...\n",
      "9      [{'code': '2', 'name': 'Public sector governan...\n",
      "10     [{'code': '10', 'name': 'Rural development'}, ...\n",
      "11     [{'code': '10', 'name': 'Rural development'}, ...\n",
      "12     [{'code': '4', 'name': 'Financial and private ...\n",
      "13     [{'code': '5', 'name': 'Trade and integration'...\n",
      "14     [{'code': '6', 'name': 'Social protection and ...\n",
      "15     [{'code': '10', 'name': 'Rural development'}, ...\n",
      "16     [{'code': '10', 'name': 'Rural development'}, ...\n",
      "17     [{'code': '8', 'name': 'Human development'}, {...\n",
      "18     [{'code': '8', 'name': 'Human development'}, {...\n",
      "19     [{'code': '2', 'name': 'Public sector governan...\n",
      "20     [{'code': '7', 'name': 'Social dev/gender/incl...\n",
      "21     [{'code': '9', 'name': 'Urban development'}, {...\n",
      "22     [{'code': '7', 'name': 'Social dev/gender/incl...\n",
      "23     [{'code': '8', 'name': 'Human development'}, {...\n",
      "24     [{'code': '10', 'name': 'Rural development'}, ...\n",
      "25     [{'code': '11', 'name': 'Environment and natur...\n",
      "26     [{'code': '4', 'name': 'Financial and private ...\n",
      "27     [{'code': '11', 'name': 'Environment and natur...\n",
      "28     [{'code': '10', 'name': 'Rural development'}, ...\n",
      "29     [{'code': '7', 'name': 'Social dev/gender/incl...\n",
      "                             ...                        \n",
      "470    [{'code': '5', 'name': 'Trade and integration'...\n",
      "471    [{'code': '10', 'name': 'Rural development'}, ...\n",
      "472    [{'code': '11', 'name': 'Environment and natur...\n",
      "473    [{'code': '11', 'name': 'Environment and natur...\n",
      "474    [{'code': '9', 'name': 'Urban development'}, {...\n",
      "475    [{'code': '4', 'name': 'Financial and private ...\n",
      "476    [{'code': '10', 'name': 'Rural development'}, ...\n",
      "477    [{'code': '4', 'name': 'Financial and private ...\n",
      "478    [{'code': '2', 'name': 'Public sector governan...\n",
      "479    [{'code': '7', 'name': 'Social dev/gender/incl...\n",
      "480    [{'code': '2', 'name': 'Public sector governan...\n",
      "481    [{'code': '8', 'name': 'Human development'}, {...\n",
      "482    [{'code': '10', 'name': 'Rural development'}, ...\n",
      "483    [{'code': '11', 'name': 'Environment and natur...\n",
      "484    [{'code': '10', 'name': 'Rural development'}, ...\n",
      "485    [{'code': '8', 'name': 'Human development'}, {...\n",
      "486    [{'code': '2', 'name': 'Public sector governan...\n",
      "487    [{'code': '11', 'name': 'Environment and natur...\n",
      "488    [{'code': '8', 'name': 'Human development'}, {...\n",
      "489    [{'code': '9', 'name': 'Urban development'}, {...\n",
      "490    [{'code': '2', 'name': 'Public sector governan...\n",
      "491    [{'code': '10', 'name': 'Rural development'}, ...\n",
      "492    [{'code': '8', 'name': 'Human development'}, {...\n",
      "493    [{'code': '11', 'name': 'Environment and natur...\n",
      "494    [{'code': '6', 'name': 'Social protection and ...\n",
      "495    [{'code': '4', 'name': 'Financial and private ...\n",
      "496    [{'code': '8', 'name': 'Human development'}, {...\n",
      "497    [{'code': '10', 'name': 'Rural development'}, ...\n",
      "498    [{'code': '10', 'name': 'Rural development'}, ...\n",
      "499    [{'code': '9', 'name': 'Urban development'}, {...\n",
      "Name: mjtheme_namecode, Length: 500, dtype: object\n"
     ]
    }
   ],
   "source": [
    "\n",
    "\n",
    "for row in df['mjtheme_namecode']:\n",
    "    for index in range(len(row)):\n",
    "        item = row[index]\n",
    "        if item['name']=='':\n",
    "            item['name']=dict1.get(item['code'])\n",
    "            #print(item)\n",
    "print(df['mjtheme_namecode'])\n",
    "            \n",
    "        "
   ]
  },
  {
   "cell_type": "code",
   "execution_count": null,
   "metadata": {},
   "outputs": [],
   "source": []
  }
 ],
 "metadata": {
  "kernelspec": {
   "display_name": "Python 3",
   "language": "python",
   "name": "python3"
  },
  "language_info": {
   "codemirror_mode": {
    "name": "ipython",
    "version": 3
   },
   "file_extension": ".py",
   "mimetype": "text/x-python",
   "name": "python",
   "nbconvert_exporter": "python",
   "pygments_lexer": "ipython3",
   "version": "3.7.0"
  }
 },
 "nbformat": 4,
 "nbformat_minor": 1
}
